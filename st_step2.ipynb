{
  "nbformat": 4,
  "nbformat_minor": 0,
  "metadata": {
    "colab": {
      "name": "st_step2.ipynb",
      "provenance": [],
      "collapsed_sections": [],
      "authorship_tag": "ABX9TyMKHl8q4gcTdgN3ihxqsErB",
      "include_colab_link": true
    },
    "kernelspec": {
      "name": "python3",
      "display_name": "Python 3"
    },
    "language_info": {
      "name": "python"
    }
  },
  "cells": [
    {
      "cell_type": "markdown",
      "metadata": {
        "id": "view-in-github",
        "colab_type": "text"
      },
      "source": [
        "<a href=\"https://colab.research.google.com/github/KangDue/TIL/blob/master/st_step2.ipynb\" target=\"_parent\"><img src=\"https://colab.research.google.com/assets/colab-badge.svg\" alt=\"Open In Colab\"/></a>"
      ]
    },
    {
      "cell_type": "markdown",
      "source": [
        "#1\n",
        "최빈값 찾기"
      ],
      "metadata": {
        "id": "i2NKRHi70WUv"
      }
    },
    {
      "cell_type": "code",
      "source": [
        "T = int(input())\n",
        "for t in range(1,T+1):\n",
        "  tn = int(input())\n",
        "  temp = list(map(int,input().split()))\n",
        "  bins = dict({ i:0 for i in set(temp)  })\n",
        "  for i in bins.keys():\n",
        "    bins[i] = temp.count(i)\n",
        "  print(f'#{tn} {max(bins.items(),key = lambda x: x[1])[0]}')"
      ],
      "metadata": {
        "colab": {
          "base_uri": "https://localhost:8080/"
        },
        "id": "PgYwpTcK0YMI",
        "outputId": "53adc3b2-582f-446c-b8ea-be496b61a132"
      },
      "execution_count": null,
      "outputs": [
        {
          "output_type": "stream",
          "name": "stdout",
          "text": [
            "1\n",
            "1\n",
            "1 1 1 1 2 3\n",
            "#1 1\n"
          ]
        }
      ]
    },
    {
      "cell_type": "markdown",
      "source": [
        "# 2\n",
        "> 수도요금 싼곳 고르기\n",
        "- A사 : 1리터당 P원의 돈을 내야 한다.\n",
        "- B사 : 기본 요금이 Q원이고, 월간 사용량이 R리터 이하인 경우 요금은 기본 요금만 청구된다. 하지만 R 리터보다 많은 양을 사용한 경우 초과량에 대해 1리터당 S원의 요금을 더 내야 한다."
      ],
      "metadata": {
        "id": "2ZkrhyIV3a_1"
      }
    },
    {
      "cell_type": "code",
      "source": [
        "T = int(input())\n",
        "for t in range(1,T+1):\n",
        "  p,q,r,s,w = map(int,input().split())\n",
        "  a = w * p\n",
        "  if w<= r:\n",
        "    b = q\n",
        "  else:\n",
        "    b = q + (w-r)*s\n",
        "  if a<b:\n",
        "    print(f'#{t} {a}')\n",
        "  else:\n",
        "    print(f'#{t} {b}')"
      ],
      "metadata": {
        "colab": {
          "base_uri": "https://localhost:8080/"
        },
        "id": "kxKCo2aM3aeE",
        "outputId": "b586f68c-82e0-4a6d-f403-ccdbb83c995b"
      },
      "execution_count": null,
      "outputs": [
        {
          "output_type": "stream",
          "name": "stdout",
          "text": [
            "1\n",
            "8 300 100 10 250\n",
            "#1 1800\n"
          ]
        }
      ]
    },
    {
      "cell_type": "markdown",
      "source": [
        "#3\n",
        ">최빈값 변형\n",
        "돌던지고 가까운 거리 던진 수 카운트\n"
      ],
      "metadata": {
        "id": "88yGumcf7xYT"
      }
    },
    {
      "cell_type": "code",
      "source": [
        "T = int(input())\n",
        "for t in range(1,T+1):\n",
        "  n = int(input())\n",
        "  temp = list(map(int,input().split()))\n",
        "  dist = dict({i:0 for i in range(1,100001) })\n",
        "  for i in temp:\n",
        "    dist[abs(i)]+=1\n",
        "  ans = max(dist.items(),key = lambda x:x[1])\n",
        "  print(f'#{t} {ans[0]} {ans[1]}')"
      ],
      "metadata": {
        "colab": {
          "base_uri": "https://localhost:8080/"
        },
        "id": "A5vYb7cu547_",
        "outputId": "7d849699-08ca-4c50-8b3c-afb95553ada3"
      },
      "execution_count": null,
      "outputs": [
        {
          "output_type": "stream",
          "name": "stdout",
          "text": [
            "1\n",
            "1\n",
            "-100 100\n",
            "#1 100 2\n"
          ]
        }
      ]
    },
    {
      "cell_type": "markdown",
      "source": [
        "#4\n",
        "> N간격 숫자세면서 0~9 모두 다보기"
      ],
      "metadata": {
        "id": "H0-DE5p6FUQq"
      }
    },
    {
      "cell_type": "code",
      "source": [
        "T = int(input())\n",
        "for t in range(1,T+1):\n",
        "  n = int(input())\n",
        "  nine = set(range(10))\n",
        "  k = 0\n",
        "  while nine:\n",
        "    k += n\n",
        "    nine = nine.difference(set( map( int,str(k) ) ))\n",
        "  print(f'#{t} {k}')"
      ],
      "metadata": {
        "id": "cRgQWoOGDXct"
      },
      "execution_count": null,
      "outputs": []
    },
    {
      "cell_type": "markdown",
      "source": [
        "#5\n",
        "> Base64 디코딩하기\n",
        "인코딩 절차\n",
        "- 1.문자를 아스키 코드로 변환\n",
        "- 2.변환한 코드를 이진수로 전환\n",
        "- 3.3byte 로 이어 붙인뒤 6bit 씩 끊기\n",
        "- 4.끊은 비트를 10진수로 전환\n",
        "- 5.Base64표 값에 대입하여 인코딩\n",
        "\n",
        "디코딩은 인코딩의 역순\n",
        "목적: 통신과정에서 바이너리 데이터의 손실을 막기 위해 사용\n",
        "- 플랫폼마다 비트중 나머지 처리 방식이 다름\n",
        "여기서는 젤 앞자리랑 빈자리는 0으로 처리"
      ],
      "metadata": {
        "id": "wz6lDHvIJNKp"
      }
    },
    {
      "cell_type": "code",
      "source": [
        "#base 64 dict 생성\n",
        "uppers = dict({ i : chr(i+65) for i in range(26)})\n",
        "lowers = dict({ i+26 : chr(i+97) for i in range(26)})\n",
        "nums = dict({ i+52 : chr(i+48) for i in range(10)})\n",
        "base64 = dict({62:\"*\",63:\"/\"}) #encoding 용\n",
        "base64.update(uppers)\n",
        "base64.update(lowers)\n",
        "base64.update(nums)\n",
        "# utf-8에서 알파벳 1글자 1바이트, 한글 3바이트\n",
        "base64_dec = dict()\n",
        "for k,v in base64.items():\n",
        "  base64_dec[v] = k #decoding용\n",
        "\n",
        "def to_byte(a): #숫자표현 7자리 맨앞자리는 0\n",
        "  temp = bin(base64_dec[a])[2:] # 0b 제외 나머지 추출\n",
        "  if len(temp) < 6: #6자리중 앞쪽 빈칸을 0으로 채워주기\n",
        "    temp = '0'*(6-len(temp))+temp\n",
        "  return temp\n",
        "\n",
        "def bin_to_deci(a):\n",
        "  result = 0\n",
        "  length = len(a)-1\n",
        "  for n,c in enumerate(a):\n",
        "    result += int(c)*2**(length-n)\n",
        "  return result\n",
        "\n",
        "T = int(input())\n",
        "for t in range(1,T+1):\n",
        "  text = input()\n",
        "  new_text = ''\n",
        "  for i in text:\n",
        "    new_text += to_byte(i)\n",
        "  ans = \"\"\n",
        "  for i in range(len(new_text)//8):\n",
        "    ans += chr(bin_to_deci(new_text[8*i:8*i+8])) #8자리 이진수 평가 후 디코딩은 아스기 넘버로\n",
        "  print( f'#{t} {ans}',end=\"\" )\n",
        "  print(\"\")"
      ],
      "metadata": {
        "colab": {
          "base_uri": "https://localhost:8080/"
        },
        "id": "KUEYeM6sJarT",
        "outputId": "ff5ab600-127e-4955-f999-2069aa3c4646"
      },
      "execution_count": null,
      "outputs": [
        {
          "output_type": "stream",
          "name": "stdout",
          "text": [
            "1\n",
            "TGlmZSBpdHNlbGYgaXMgYSBxdW90YXRpb24u\n",
            "#1 Life itself is a quotation."
          ]
        }
      ]
    },
    {
      "cell_type": "markdown",
      "source": [
        "#6\n",
        "> 소인수분해"
      ],
      "metadata": {
        "id": "DUtEkdf6rHlS"
      }
    },
    {
      "cell_type": "code",
      "source": [
        "def prime(n):\n",
        "  a = [False,False] + [True]*(n-1)\n",
        "  primes=[]\n",
        "\n",
        "  for i in range(2,n+1):\n",
        "    if a[i]:\n",
        "      primes.append(i)\n",
        "      for j in range(2*i, n+1, i): #다음배수부터 쭉\n",
        "          a[j] = False #i의 배수는 소수 X \n",
        "  return primes\n",
        "\n",
        "T = int(input())\n",
        "for t in range(1,T+1):\n",
        "  n = int(input())\n",
        "  primes = prime(n)\n",
        "  ans = dict({ i:0 for i in primes }) #소인수분해 범용성\n",
        "  while n != 1:\n",
        "    if n in primes:\n",
        "      break\n",
        "    for i in primes:\n",
        "      while not(n%i):\n",
        "        n = n//i\n",
        "        ans[i] += 1        \n",
        "      else:\n",
        "        continue\n",
        "  print(f'#{t} {ans[2]} {ans[3]} {ans[5]} {ans[7]} {ans[11]}')"
      ],
      "metadata": {
        "id": "32Nr2i7P038i",
        "colab": {
          "base_uri": "https://localhost:8080/"
        },
        "outputId": "6a2a9266-17dc-402b-e795-d815f2dcc78d"
      },
      "execution_count": 52,
      "outputs": [
        {
          "name": "stdout",
          "output_type": "stream",
          "text": [
            "1\n",
            "30\n"
          ]
        }
      ]
    },
    {
      "cell_type": "markdown",
      "source": [
        "# 7\n",
        ">월 일로 이루어진 날짜를 2개 입력 받아, 두 번째 날짜가 첫 번째 날짜의 며칠째인지 출력"
      ],
      "metadata": {
        "id": "pK4O_CQbYut7"
      }
    },
    {
      "cell_type": "code",
      "source": [
        "T = int(input())\n",
        "for t in range(1  ,T+1):\n",
        "  m0,d0, m1,d1 = map(int,input().split())\n",
        "  m_d = [0,31,28,31,30,31,30,31,31,30,31,30,31]  \n",
        "  days = d1 - d0 +1\n",
        "  for i in range(m0,m1):\n",
        "    days += m_d[i]\n",
        "  print(f'#{t} {days}')"
      ],
      "metadata": {
        "colab": {
          "base_uri": "https://localhost:8080/"
        },
        "id": "LgM0wc4dKokf",
        "outputId": "aa68b5f0-3552-47fc-808d-7ce05728fe8c"
      },
      "execution_count": 57,
      "outputs": [
        {
          "output_type": "stream",
          "name": "stdout",
          "text": [
            "1\n",
            "3 1 3 31\n",
            "1 days\n"
          ]
        }
      ]
    },
    {
      "cell_type": "markdown",
      "source": [
        "# 8\n",
        "> 시계방향 회전해서 달팽이모양으로 숫자출력\n",
        "n x n 달팽이\n",
        "1. n-1 씩 상 우 하 좌 끊어서 입력 (테두리 하나씩)\n",
        "2. 다음 테두리는 n-2 씩 상하좌우"
      ],
      "metadata": {
        "id": "up5veQT9aRXM"
      }
    },
    {
      "cell_type": "code",
      "source": [
        "def pa(a,t):\n",
        "  print(f'#{t}')\n",
        "  for i in a:\n",
        "    temp = i.pop()\n",
        "    for k in i:\n",
        "      print(k,end=\" \")\n",
        "    print(temp)\n",
        "\n",
        "T = int(input())\n",
        "for t in range(1,T+1):\n",
        "  n = int(input())\n",
        "  mat = []\n",
        "  for i in range(n): #빈 집 만들기\n",
        "    temp = []\n",
        "    for k in range(n):\n",
        "      temp.append(0)\n",
        "    mat.append(temp)\n",
        "\n",
        "  if n%2==0:\n",
        "    step = n//2\n",
        "  else:\n",
        "    step = n//2+1\n",
        "  \n",
        "  count = 1\n",
        "  shell = n # 껍질수\n",
        "  for k in range(step):\n",
        "    for i in range(0,shell-1): # 상\n",
        "      mat[k][i+k] = count\n",
        "      count += 1\n",
        "    for i in range(0,shell-1): #우\n",
        "      mat[i+k][-1-k] = count\n",
        "      count += 1\n",
        "    for i in range(0,shell-1):\n",
        "      mat[-1-k][-1-i-k] = count #하\n",
        "      count += 1\n",
        "    for i in range(0,shell-1):#좌\n",
        "      mat[-1-i-k][k]= count\n",
        "      count += 1\n",
        "    shell -= 2\n",
        "  if count == n**2:\n",
        "    mat[n//2][n//2]=n**2\n",
        "    \n",
        "  pa(mat,t)"
      ],
      "metadata": {
        "colab": {
          "base_uri": "https://localhost:8080/"
        },
        "id": "mIEFtT1baF5U",
        "outputId": "c487d046-c0ca-4da3-8062-cc59a0d3f087"
      },
      "execution_count": 153,
      "outputs": [
        {
          "output_type": "stream",
          "name": "stdout",
          "text": [
            "1\n",
            "4\n",
            "0 4\n",
            "1 2\n",
            "----\n",
            "[1, 2, 3, 4]\n",
            "[12, 13, 14, 5]\n",
            "[11, 16, 15, 6]\n",
            "[10, 9, 8, 7]\n",
            "----\n"
          ]
        }
      ]
    },
    {
      "cell_type": "markdown",
      "source": [
        "# 9\n",
        "> 숫자 정렬"
      ],
      "metadata": {
        "id": "9hPdNIYfnVhn"
      }
    },
    {
      "cell_type": "code",
      "source": [
        "T = int(input())\n",
        "for t in range(1,T+1):\n",
        "  n = int(input())\n",
        "  nums = list(map(int,input().split()))\n",
        "  nums.sort() #내장 함수 말고 직접 정렬 알고리즘 구현해보기!\n",
        "  temp = nums.pop()\n",
        "  for i in nums:\n",
        "    print(i,end=\" \")\n",
        "  print(temp)"
      ],
      "metadata": {
        "colab": {
          "base_uri": "https://localhost:8080/"
        },
        "id": "hWTDS4Vc0x1y",
        "outputId": "f98dee3d-a998-4162-a8a5-86346614c6fe"
      },
      "execution_count": 167,
      "outputs": [
        {
          "output_type": "stream",
          "name": "stdout",
          "text": [
            "1\n",
            "5\n",
            "1 4 7 8 0\n",
            "0 1 4 7 8\n"
          ]
        }
      ]
    },
    {
      "cell_type": "markdown",
      "source": [
        "# 10\n",
        "> 거스름돈 갯수가 최소가 될때 화폐별 몇개씩 필요한가?"
      ],
      "metadata": {
        "id": "SjLuutjb1sPK"
      }
    },
    {
      "cell_type": "code",
      "source": [
        "T = int(input())\n",
        "for t in range(1,T+1):\n",
        "  units = dict({50000:0 ,10000:0 ,5000:0 ,1000:0,500:0,100:0,50:0,10:0})\n",
        "  n = int(input())\n",
        "  changes = []\n",
        "  for i in units.keys():\n",
        "    if n == 0:\n",
        "      break\n",
        "    elif n >= i:\n",
        "      units[i]=n//i\n",
        "      n = n%i\n",
        "    else:\n",
        "      continue\n",
        "  temp = list(units.values())\n",
        "  a = temp.pop()\n",
        "  print(f'#{t}')\n",
        "  for i in temp:\n",
        "    print(i,end=\" \")\n",
        "  print(a)    \n"
      ],
      "metadata": {
        "id": "c9bQe8ZD1Iaj"
      },
      "execution_count": null,
      "outputs": []
    },
    {
      "cell_type": "markdown",
      "source": [
        "# 11\n",
        "> 시간 계산"
      ],
      "metadata": {
        "id": "JotHfL2w5qox"
      }
    },
    {
      "cell_type": "code",
      "source": [
        "T = int(input())\n",
        "for t in range(1,T+1):\n",
        "  h0,m0,h1,m1 = map(int,input().split()) # 12시 표기 h = 1~12, m = 0~59\n",
        "  h,m = (h0+h1)%12+(m0+m1 > 59), (m0+m1)%60\n",
        "  print(f'#{t} {h} {m}')  "
      ],
      "metadata": {
        "colab": {
          "base_uri": "https://localhost:8080/"
        },
        "id": "xT-4gRHA3RTr",
        "outputId": "ccdcbbbb-f747-45f8-aedb-b48e5727a8bb"
      },
      "execution_count": 180,
      "outputs": [
        {
          "output_type": "stream",
          "name": "stdout",
          "text": [
            "1\n",
            "3 17 1 39\n",
            "1 4 56\n"
          ]
        }
      ]
    },
    {
      "cell_type": "markdown",
      "source": [
        "# 12\n",
        "> A+ ~ D0 성적매기기\n",
        "- tot = mid + final + hw\n",
        "- -----------35%    45%    20%"
      ],
      "metadata": {
        "id": "mTgLIr1x7grX"
      }
    },
    {
      "cell_type": "code",
      "source": [
        "def qs(x):\n",
        "  if len(x) <= 1: #하나만 남게된 리스트 반환\n",
        "    return x\n",
        "  pivot = x[len(x)//2] #적당히 가운데 값 pivot\n",
        "  less_x, eq_x, large_x = [], [], []\n",
        "  for num in x:\n",
        "    if num <pivot:\n",
        "      less_x.append(num)\n",
        "    elif num>pivot:\n",
        "      large_x.append(num)\n",
        "    else:\n",
        "      eq_x.append(num)\n",
        "  return qs(less_x) + eq_x + qs(large_x) #각각의 재귀로 크기 1이 될때까지 분기가 되어\n",
        "  # 마지막에 합쳐짐\n",
        "grade = ['D0','C-','C0','C+','B-','B0','B+','A-','A0','A+']\n",
        "#10분의 n명씩 동일한 점수주기 가능 (10구간임)\n",
        "# n도 10의 배수로 주어짐\n",
        "# 찾고자 하는 K번째 학생은 동점자가 없다.\n",
        "T = int(input())\n",
        "for t in range(1,T+1):\n",
        "  n, k = map(int,input().split())\n",
        "  students = [list(map(int,input().split())) for i in range(n)]\n",
        "  students = [i[0]*0.35+i[1]*0.45+i[2]*0.2 for i in students]\n",
        "  kscore = students[k-1]\n",
        "  students = qs(students)\n",
        "  for i in range(n):\n",
        "    if students[i] == kscore:\n",
        "      print(f'#{t} {grade[ i // (n//10) ]}')"
      ],
      "metadata": {
        "id": "TXW-SHB87VUD"
      },
      "execution_count": null,
      "outputs": []
    },
    {
      "cell_type": "markdown",
      "source": [
        "# 13\n",
        "> 숫자 리스트중 최대,최소값 제외 평균값"
      ],
      "metadata": {
        "id": "XHIHEABmEKEU"
      }
    },
    {
      "cell_type": "code",
      "source": [
        "n = 10 #입력은 10개임\n",
        "T = int(input())\n",
        "for t in range(1,T+1):\n",
        "  nums = list(map(int,input().split()))\n",
        "  for i in range(n-1):\n",
        "    if nums[i] < nums[i+1]: #마지막으로 최솟값 이동\n",
        "      nums[i], nums[i+1] = nums[i+1], nums[i]\n",
        "  for i in range(-2,-n,-1): #최소값 빼고 거꾸로 돌면서 최댓값 맨앞으로\n",
        "    if nums[i] > nums[i-1]:\n",
        "      nums[i] , nums[i-1] = nums[i-1] , nums[i]\n",
        "  print(f'#{t} {round( sum(nums[1:-1])/(n-2) )}')"
      ],
      "metadata": {
        "id": "nP-Xu-sYDj3n"
      },
      "execution_count": null,
      "outputs": []
    },
    {
      "cell_type": "markdown",
      "source": [
        "# 14\n",
        "> 자연수 N 이 주어질 때 1~N 까지 +, - 연산\n",
        "번갈아 가면서 시행한 결과"
      ],
      "metadata": {
        "id": "q3vOWwL3HjKb"
      }
    },
    {
      "cell_type": "code",
      "source": [
        "T = int(input())\n",
        "for t in range(1,T+1):\n",
        "  n = int(input())\n",
        "  ans = 0\n",
        "  sign = True\n",
        "  for i in range(1,n+1):\n",
        "    if sign:\n",
        "      ans += i\n",
        "      sign = False\n",
        "    else:\n",
        "      ans -= i\n",
        "      sign = True\n",
        "  print(f'#{t} {ans}')"
      ],
      "metadata": {
        "id": "FsB7Xz55G5IG"
      },
      "execution_count": null,
      "outputs": []
    },
    {
      "cell_type": "markdown",
      "source": [
        "# 15\n",
        "> 파스칼 삼각형 출력하기"
      ],
      "metadata": {
        "id": "ckyQWT9PIqhD"
      }
    },
    {
      "cell_type": "code",
      "source": [
        "T = int(input())\n",
        "for t in range(1,T+1):\n",
        "  pascal = [None,[1]]\n",
        "  n = int(input()) # n 층 삼각형 만들기\n",
        "  for i in range(2,n+1):\n",
        "    pascal.append( [1]*i )\n",
        "    for k in range(1,len(pascal[i-1])):\n",
        "      pascal[i][k]= pascal[i-1][k-1] + pascal[i-1][k]\n",
        "  print(f'#{t}')\n",
        "  pascal = pascal[1::]\n",
        "  for i in pascal:\n",
        "    temp = i.pop()\n",
        "    for k in i:\n",
        "      print(k,end=\" \")\n",
        "    print(temp)"
      ],
      "metadata": {
        "colab": {
          "base_uri": "https://localhost:8080/"
        },
        "id": "k7UFkfhQIa0V",
        "outputId": "db92f64e-d24f-4728-94ba-a180d2aaff03"
      },
      "execution_count": 243,
      "outputs": [
        {
          "output_type": "stream",
          "name": "stdout",
          "text": [
            "1\n",
            "4\n",
            "#1\n",
            "1\n",
            "1 1\n",
            "1 2 1\n",
            "1 3 3 1\n"
          ]
        }
      ]
    },
    {
      "cell_type": "markdown",
      "source": [
        "# 16\n",
        "> 패턴중 반복되는것 = 마디\n",
        "- 마디의 길이는?"
      ],
      "metadata": {
        "id": "miCREZf9OD9B"
      }
    },
    {
      "cell_type": "code",
      "source": [
        "T = int(input())\n",
        "for t in range(1,T+1):\n",
        "  word = input()\n",
        "  length = len(word)\n",
        "  for i in range(1,length+1):\n",
        "    if word[:i] == word[i:2*i]:\n",
        "      print(f'#{t} {i}')\n",
        "      break"
      ],
      "metadata": {
        "colab": {
          "base_uri": "https://localhost:8080/"
        },
        "id": "eFf_QP1BLdT9",
        "outputId": "f96c6369-7e65-42c7-d454-e0f0e965062e"
      },
      "execution_count": 249,
      "outputs": [
        {
          "output_type": "stream",
          "name": "stdout",
          "text": [
            "1\n",
            "aa\n",
            "#1 1\n"
          ]
        }
      ]
    },
    {
      "cell_type": "markdown",
      "source": [
        "# 17\n",
        "> 3,6,9 게임\n",
        "- 1~n 중에 3이들어가는 숫자는 3의 갯수만큼 -를 n개 출력"
      ],
      "metadata": {
        "id": "1N3iOalnTVwp"
      }
    },
    {
      "cell_type": "code",
      "source": [
        "def count_369(x):\n",
        "  x = str(x)\n",
        "  if not('3' in x) and not('6' in x) and not('9' in x):\n",
        "    print(x,end=\"\")\n",
        "  else:\n",
        "    print('-'*( x.count('3')+x.count('6')+x.count('9') ),end=\"\")\n",
        "    \n",
        "n = int(input())\n",
        "for i in range(1,n):\n",
        "  count_369(i)\n",
        "  print(\" \",end=\"\")\n",
        "count_369(n)"
      ],
      "metadata": {
        "colab": {
          "base_uri": "https://localhost:8080/"
        },
        "id": "6scGGv_sQtWx",
        "outputId": "a057eae7-e52c-44da-fce1-36eb3d48b0ed"
      },
      "execution_count": 264,
      "outputs": [
        {
          "output_type": "stream",
          "name": "stdout",
          "text": [
            "10\n",
            "1 2 - 4 5 - 7 8 - 10"
          ]
        }
      ]
    },
    {
      "cell_type": "markdown",
      "source": [
        "# 18\n",
        "> - 1. 연속된 n 일간 물건 가격 알고 있음\n",
        "- 2. 하루 최대 1만큼 구매 가능\n",
        "- 3. 판매는 얼마든지 가능\n",
        "- 4. 얻을 수 있는 최대 이득은??"
      ],
      "metadata": {
        "id": "Tcjx3nEeXsuN"
      }
    },
    {
      "cell_type": "code",
      "source": [
        "T = int(input())\n",
        "for t in range(1,T+1):\n",
        "  n = int(input())\n",
        "  prices = list(map(int,input().split()))\n",
        "\n",
        "  sur = 0\n",
        "  while prices: #최고가 인날 찾아서 그 앞은 다팔기 반복:\n",
        "    mp = max(prices)\n",
        "    mp_index = prices.index(mp)\n",
        "    sur += mp*mp_index - sum(prices[:mp_index]) #일일이 다 비교하면 너무 느려짐.\n",
        "    prices = prices[mp_index+1::] #수학적으로 좀 봐서 계산/비교 줄이고, 크기 줄여나가기\n",
        "  print(f'#{t} {sur}')\n",
        "\n",
        "\"\"\"단계\n",
        "1. 최댓값 찾기\n",
        "2. 그 앞부분 전부 최댓값과 차이의 합을 흑자로 더하기\n",
        "3. 최댓값포함 앞부분 자르기 .\n",
        "4. 1~3을 prices = []이 될때까지 반복\n",
        "\"\"\" "
      ],
      "metadata": {
        "colab": {
          "base_uri": "https://localhost:8080/"
        },
        "id": "QAOdUdYgUhOh",
        "outputId": "6f089316-719f-4767-d249-e0ab18abf825"
      },
      "execution_count": 294,
      "outputs": [
        {
          "output_type": "stream",
          "name": "stdout",
          "text": [
            "1\n",
            "1\n",
            "9 8 7\n",
            "#1 0\n"
          ]
        }
      ]
    }
  ]
}