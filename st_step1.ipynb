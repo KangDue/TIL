{
  "nbformat": 4,
  "nbformat_minor": 0,
  "metadata": {
    "colab": {
      "name": "st_step1.ipynb",
      "provenance": [],
      "collapsed_sections": [],
      "authorship_tag": "ABX9TyMuXcMBICiKDTtb1hURK1P4",
      "include_colab_link": true
    },
    "kernelspec": {
      "name": "python3",
      "display_name": "Python 3"
    },
    "language_info": {
      "name": "python"
    }
  },
  "cells": [
    {
      "cell_type": "markdown",
      "metadata": {
        "id": "view-in-github",
        "colab_type": "text"
      },
      "source": [
        "<a href=\"https://colab.research.google.com/github/KangDue/TIL/blob/master/st_step1.ipynb\" target=\"_parent\"><img src=\"https://colab.research.google.com/assets/colab-badge.svg\" alt=\"Open In Colab\"/></a>"
      ]
    },
    {
      "cell_type": "markdown",
      "source": [
        "#0\n",
        "거꾸로 숫자 출력"
      ],
      "metadata": {
        "id": "kII-hcNgqzEJ"
      }
    },
    {
      "cell_type": "code",
      "source": [
        "n = int(input())\n",
        "for i in range(n,0,-1):\n",
        "  print(i,end=\" \")\n",
        "print(0,end=\"\")"
      ],
      "metadata": {
        "colab": {
          "base_uri": "https://localhost:8080/"
        },
        "id": "Z6iOoq5qqz9D",
        "outputId": "01f8de96-427b-4c2e-b236-9e59463dc540"
      },
      "execution_count": 8,
      "outputs": [
        {
          "output_type": "stream",
          "name": "stdout",
          "text": [
            "8\n",
            "8 7 6 5 4 3 2 1 0"
          ]
        }
      ]
    },
    {
      "cell_type": "markdown",
      "source": [
        "#1\n",
        "1부터 n번 2씩 곱해서 출력"
      ],
      "metadata": {
        "id": "XiCCG9mWs97x"
      }
    },
    {
      "cell_type": "code",
      "source": [
        "n = int(input())\n",
        "ans = 1\n",
        "for i in range(1,n+1):\n",
        "    print(ans,end=\" \")\n",
        "    ans *= 2\n",
        "print(ans)"
      ],
      "metadata": {
        "id": "a-Ncypnlq10Y"
      },
      "execution_count": null,
      "outputs": []
    },
    {
      "cell_type": "markdown",
      "source": [
        "#2\n",
        "약수 출력"
      ],
      "metadata": {
        "id": "-aqaOq7Otz4v"
      }
    },
    {
      "cell_type": "code",
      "source": [
        "def lprint(x):\n",
        "  a = x.pop()\n",
        "  for i in x:\n",
        "    print(i,end=\" \")\n",
        "  print(a)\n",
        "\n",
        "n = int(input())\n",
        "temp = [False] + [False] * n\n",
        "for i in range(1,n+1):\n",
        "  for k in range(1,n+1):\n",
        "    if i*k == n:\n",
        "      temp[i], temp[k] = True, True\n",
        "temp = [i for i in range(n+1) if temp[i]==True]\n",
        "lprint(temp)"
      ],
      "metadata": {
        "colab": {
          "base_uri": "https://localhost:8080/"
        },
        "id": "r8RqsJY_t0lZ",
        "outputId": "b373c8e2-2b8a-40ff-b9eb-fde763def520"
      },
      "execution_count": 63,
      "outputs": [
        {
          "output_type": "stream",
          "name": "stdout",
          "text": [
            "10\n",
            "1 2 5 10\n"
          ]
        }
      ]
    },
    {
      "cell_type": "markdown",
      "source": [
        "#3\n",
        "두 수의 + - * / 순서대로 출력"
      ],
      "metadata": {
        "id": "DIdKzvlu6Pe3"
      }
    },
    {
      "cell_type": "code",
      "source": [
        "a, b = map(int,input().split())\n",
        "print(a+b,a-b,a*b,int(a/b),sep=\"\\n\")"
      ],
      "metadata": {
        "colab": {
          "base_uri": "https://localhost:8080/"
        },
        "id": "RvOyki166Kgs",
        "outputId": "c7c53d0a-f892-4e0f-f3d8-473e5d6536d4"
      },
      "execution_count": 69,
      "outputs": [
        {
          "output_type": "stream",
          "name": "stdout",
          "text": [
            "8 3\n",
            "11\n",
            "5\n",
            "24\n",
            "2\n"
          ]
        }
      ]
    },
    {
      "cell_type": "markdown",
      "source": [
        "# 4\n",
        "> 1부터~n까지 더하기\n",
        "- 간단하게 점화식 쓸 수 있으면 좋다"
      ],
      "metadata": {
        "id": "yBn8HTSt9CnF"
      }
    },
    {
      "cell_type": "code",
      "source": [
        "n = int(input())\n",
        "print(int(n*(n+1)/2))"
      ],
      "metadata": {
        "colab": {
          "base_uri": "https://localhost:8080/"
        },
        "id": "OZjP2bAy8H7P",
        "outputId": "856a66a7-cbb5-4e3f-edaa-ffff9a5abc4b"
      },
      "execution_count": 70,
      "outputs": [
        {
          "name": "stdout",
          "output_type": "stream",
          "text": [
            "3\n"
          ]
        }
      ]
    },
    {
      "cell_type": "markdown",
      "source": [
        "# 5\n",
        "> 대각선 출력하기"
      ],
      "metadata": {
        "id": "ZXzCQiVG94F1"
      }
    },
    {
      "cell_type": "code",
      "source": [
        "print(\"#++++\")\n",
        "print(\"+#+++\")\n",
        "print(\"++#++\")\n",
        "print(\"+++#+\")\n",
        "print(\"++++#\")"
      ],
      "metadata": {
        "colab": {
          "base_uri": "https://localhost:8080/"
        },
        "id": "NtrynH1B8Ngh",
        "outputId": "1562dad7-c84e-45cf-8258-cca89ecd2059"
      },
      "execution_count": 73,
      "outputs": [
        {
          "output_type": "stream",
          "name": "stdout",
          "text": [
            "#++++\n",
            "+#+++\n",
            "++#++\n",
            "+++#+\n",
            "++++#\n"
          ]
        }
      ]
    },
    {
      "cell_type": "markdown",
      "source": [
        "# 6\n",
        "몫과 나머지 출력"
      ],
      "metadata": {
        "id": "m0UPSn6bACoO"
      }
    },
    {
      "cell_type": "code",
      "source": [
        "T = int(input())\n",
        "for t in range(1,T+1):\n",
        "  a,b = map(int,input().split())\n",
        "  print(\"#{}\".format(t), a//b, a%b)"
      ],
      "metadata": {
        "colab": {
          "base_uri": "https://localhost:8080/"
        },
        "id": "xyJ8gS009Jyu",
        "outputId": "bba5b076-b808-4ed3-b5f6-8c4ffd805cd9"
      },
      "execution_count": 75,
      "outputs": [
        {
          "output_type": "stream",
          "name": "stdout",
          "text": [
            "3\n",
            "9 2\n",
            "#1 4 1\n",
            "15 6\n",
            "#2 2 3\n",
            "369 15\n",
            "#3 24 9\n"
          ]
        }
      ]
    },
    {
      "cell_type": "markdown",
      "source": [
        "#7\n",
        "> 노가다로 비번맞추기\n",
        "- 3자리 자물쇠 한칸씩 돌릴때\n",
        "- 몇번 돌려야 하나?"
      ],
      "metadata": {
        "id": "ekExSmxgC9ms"
      }
    },
    {
      "cell_type": "code",
      "source": [
        "p,k = map(int,input().split())\n",
        "print(abs(p-k+1))"
      ],
      "metadata": {
        "colab": {
          "base_uri": "https://localhost:8080/"
        },
        "id": "X66vASYqAXv2",
        "outputId": "277cb55f-bb59-4272-95b6-299683c73d9d"
      },
      "execution_count": 78,
      "outputs": [
        {
          "output_type": "stream",
          "name": "stdout",
          "text": [
            "123 100\n",
            "24\n"
          ]
        }
      ]
    },
    {
      "cell_type": "markdown",
      "source": [
        "#8\n",
        "숫자만큼 #출력"
      ],
      "metadata": {
        "id": "EAjedmU2EZXd"
      }
    },
    {
      "cell_type": "code",
      "source": [
        "n = int(input())\n",
        "print(\"#\"*n)"
      ],
      "metadata": {
        "colab": {
          "base_uri": "https://localhost:8080/"
        },
        "id": "GcBftKLAAXyA",
        "outputId": "76cd08b7-13b6-4f93-aade-1c63b14e331d"
      },
      "execution_count": 79,
      "outputs": [
        {
          "output_type": "stream",
          "name": "stdout",
          "text": [
            "3\n",
            "###\n"
          ]
        }
      ]
    },
    {
      "cell_type": "markdown",
      "source": [
        "#9\n",
        "소문자 to 대문자"
      ],
      "metadata": {
        "id": "eY_QuyGJGke0"
      }
    },
    {
      "cell_type": "code",
      "source": [
        "text=input()\n",
        "print(text.upper())"
      ],
      "metadata": {
        "colab": {
          "base_uri": "https://localhost:8080/"
        },
        "id": "sBb8thMSDAcc",
        "outputId": "4c5a1def-adb5-4264-a840-eac9e09b6498"
      },
      "execution_count": 80,
      "outputs": [
        {
          "name": "stdout",
          "output_type": "stream",
          "text": [
            "The_headline_is_the_text_indicating_the_nature_of_the_article_below_it.\n"
          ]
        }
      ]
    },
    {
      "cell_type": "markdown",
      "source": [
        "#10\n",
        "문자를 숫자로 바꾸기\n",
        "A~z 1~26"
      ],
      "metadata": {
        "id": "Iq2GVIYkHrBE"
      }
    },
    {
      "cell_type": "code",
      "source": [
        "def lprint(x):\n",
        "  a = x.pop()\n",
        "  for i in x:\n",
        "    print(i,end=\" \")\n",
        "  print(a)\n",
        "text=input()\n",
        "temp = [ord(i)-64 for i in text]\n",
        "lprint(temp)"
      ],
      "metadata": {
        "colab": {
          "base_uri": "https://localhost:8080/"
        },
        "id": "WjDH8cK1Hqgc",
        "outputId": "1f06f40e-c012-42ed-cb9e-e224465a0abc"
      },
      "execution_count": 90,
      "outputs": [
        {
          "output_type": "stream",
          "name": "stdout",
          "text": [
            "ABCDEFGHIJKLMNOPQRSTUVWXYZ\n",
            "1 2 3 4 5 6 7 8 9 10 11 12 13 14 15 16 17 18 19 20 21 22 23 24 25 26\n"
          ]
        }
      ]
    },
    {
      "cell_type": "markdown",
      "source": [
        "#11\n",
        "날짜 유효성 판단"
      ],
      "metadata": {
        "id": "dcrEYmatX3oa"
      }
    },
    {
      "cell_type": "code",
      "source": [
        "vali =  dict({ 1:31,2:28,3:31,4:30,5:31,6:30,\n",
        "              7:31,8:31,9:30,10:31,11:30,12:31})\n",
        "n = int(input())\n",
        "days = [input() for i in range(n)]\n",
        "for num,con in enumerate(days):\n",
        "  y,m,d = con[:4],con[4:6],con[6::]\n",
        "  if (0<int(m)<13) and (int(d) <= vali[int(m)]):\n",
        "    print(f'#{num+1} {y}/{m}/{d}')\n",
        "  else:\n",
        "    print(f'#{num+1} {-1}')"
      ],
      "metadata": {
        "colab": {
          "base_uri": "https://localhost:8080/"
        },
        "id": "XXaqIt5rG1L4",
        "outputId": "06f75880-e273-402f-f6a5-c62b79e60b3d"
      },
      "execution_count": 103,
      "outputs": [
        {
          "output_type": "stream",
          "name": "stdout",
          "text": [
            "1\n",
            "22220228\n",
            "#1 2222/2/28\n"
          ]
        }
      ]
    },
    {
      "cell_type": "markdown",
      "source": [
        "#12\n",
        "최대값 출력하기"
      ],
      "metadata": {
        "id": "lUaXM0Lapwl_"
      }
    },
    {
      "cell_type": "code",
      "source": [
        "n = int(input())\n",
        "for N in range(n):\n",
        "  nums = list(map(int,input().split() ) )\n",
        "  mv=0\n",
        "  for i in nums:\n",
        "    if mv < i:\n",
        "      mv =i\n",
        "  print(f'#{N+1} {mv}')"
      ],
      "metadata": {
        "colab": {
          "base_uri": "https://localhost:8080/"
        },
        "id": "Sxsp8Hzupkd7",
        "outputId": "6eba6f59-8321-4531-f4cf-966789b4451a"
      },
      "execution_count": 107,
      "outputs": [
        {
          "name": "stdout",
          "output_type": "stream",
          "text": [
            "1\n",
            "3 17 1 39 8 41 2 32 99 2 22 8 5 123 7 2 63 7 3 46 6 63 2 3 58 76 21 33 8 1 \n"
          ]
        }
      ]
    },
    {
      "cell_type": "markdown",
      "source": [
        "#13\n",
        ">숫자 2개 비교후 등호 또는 부등호 출력"
      ],
      "metadata": {
        "id": "Q0ZtMkXlrCd3"
      }
    },
    {
      "cell_type": "code",
      "source": [
        "T = int(input())\n",
        "for t in range(1,T+1):\n",
        "  a,b = map(int,input().split())\n",
        "  if a>b:\n",
        "    print(f'#{t} >')\n",
        "  elif a==b:\n",
        "    print(f'#{t} =')\n",
        "  else:\n",
        "    print(f'#{t} <')"
      ],
      "metadata": {
        "colab": {
          "base_uri": "https://localhost:8080/"
        },
        "id": "dFTN1ft8qlBa",
        "outputId": "9ef7a115-d532-4236-bdac-117ff1728891"
      },
      "execution_count": 112,
      "outputs": [
        {
          "output_type": "stream",
          "name": "stdout",
          "text": [
            "1\n",
            "3 8\n",
            "#1 <\n"
          ]
        }
      ]
    },
    {
      "cell_type": "markdown",
      "source": [
        "#14\n",
        "평균값 구하기 소수점 첫째자리에서 반올림"
      ],
      "metadata": {
        "id": "VoGndV08s2Zu"
      }
    },
    {
      "cell_type": "code",
      "source": [
        "T = int(input())\n",
        "for t in range(1,T+1):\n",
        "  temp = list(map(int,input().split()))\n",
        "  print(f'#{t} {round( sum(temp)/10 )}')"
      ],
      "metadata": {
        "colab": {
          "base_uri": "https://localhost:8080/"
        },
        "id": "ErpVUUiKqola",
        "outputId": "e6492e9b-4cd0-4a72-8271-17c798664823"
      },
      "execution_count": 113,
      "outputs": [
        {
          "output_type": "stream",
          "name": "stdout",
          "text": [
            "1\n",
            "3 17 1 39 8 41 2 32 99 2\n",
            "#1 24\n"
          ]
        }
      ]
    },
    {
      "cell_type": "markdown",
      "source": [
        "#15\n",
        "홀수만 더하기"
      ],
      "metadata": {
        "id": "XGUaf3FktksP"
      }
    },
    {
      "cell_type": "code",
      "source": [
        "T = int(input())\n",
        "for t in range(1,T+1):\n",
        "  temp = list(map(int,input().split()))\n",
        "  temp = [i for i in temp if i%2 !=0]\n",
        "  print(f'#{t} {round( sum(temp))}')"
      ],
      "metadata": {
        "id": "WZe7vsOXtOFw"
      },
      "execution_count": null,
      "outputs": []
    },
    {
      "cell_type": "markdown",
      "source": [
        ""
      ],
      "metadata": {
        "id": "fklP2QYhut-H"
      }
    },
    {
      "cell_type": "code",
      "source": [
        ""
      ],
      "metadata": {
        "id": "e2m5R29dtv6f"
      },
      "execution_count": null,
      "outputs": []
    }
  ]
}