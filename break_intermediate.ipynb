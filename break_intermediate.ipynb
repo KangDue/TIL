{
  "nbformat": 4,
  "nbformat_minor": 0,
  "metadata": {
    "colab": {
      "name": "break_intermediate.ipynb",
      "provenance": [],
      "collapsed_sections": [
        "_GZDOmPsIWvs",
        "FCfwrh02MMJM",
        "mzvTCkd3_bcV",
        "VRrdAMKuNre3",
        "zruq6LvKtMVZ",
        "fwCk82kzu5W5",
        "jvooLMN_2mfd",
        "fGmVv7nb4nFU",
        "dy_cT5DnBrjR",
        "D87ZbZDQEsho",
        "Zq4a1yo1Gzph",
        "sek2m3EVpw8_",
        "i2cvuSup0o6q"
      ],
      "authorship_tag": "ABX9TyPrlpv1fCHn0z2Wtcn11oX+",
      "include_colab_link": true
    },
    "kernelspec": {
      "name": "python3",
      "display_name": "Python 3"
    },
    "language_info": {
      "name": "python"
    },
    "gpuClass": "standard"
  },
  "cells": [
    {
      "cell_type": "markdown",
      "metadata": {
        "id": "view-in-github",
        "colab_type": "text"
      },
      "source": [
        "<a href=\"https://colab.research.google.com/github/KangDue/TIL/blob/master/break_intermediate.ipynb\" target=\"_parent\"><img src=\"https://colab.research.google.com/assets/colab-badge.svg\" alt=\"Open In Colab\"/></a>"
      ]
    },
    {
      "cell_type": "markdown",
      "source": [
        "# 웹 스크레핑 코딩의 기본 프로세스\n",
        "> 1. 대상 웹페이지를 파싱 (bs4)\n",
        "2. 파싱된 데이터중에서 스크레핑하고자 하는\n",
        "\"전체 데이터를 선택\n",
        "- 이때 `find_all` 또는 `select` 명령어로\n",
        "얻어지는 데이터는 list로 \n",
        "이 대부분이 big 안에 small이 있음.\n",
        "3. 이 데이터 중 직접 구하고자 하는\n",
        "\"단위 데이터를 선택\n",
        "- find 또는 select_one 명령어 사용\n",
        "for 순환문 사용 단위 데이터 스크래핑\n",
        "> 4. 이 결과를 출력 또는 저장\n",
        "\n",
        "select나 find_all로 전체를 긁고\n",
        "select_one과 find로 단위 긁기 with for문"
      ],
      "metadata": {
        "id": "_GZDOmPsIWvs"
      }
    },
    {
      "cell_type": "code",
      "source": [
        "import re\n",
        "import requests as rs\n",
        "from bs4 import BeautifulSoup as bs"
      ],
      "metadata": {
        "id": "31P_uGAmHon9"
      },
      "execution_count": null,
      "outputs": []
    },
    {
      "cell_type": "code",
      "source": [
        "#예문 find\n",
        "soup = bs(res.text,'html.parser')\n",
        "\n",
        "#내용을 포함하는 가장 큰 tag = li class = \"_itemSection\"\n",
        "items = soup.find_all(\"li\",attrs = {\"class\":re.compile(\"^_itemSection\")})\n",
        "# class 이름에 _itemSection이 들어가는 모든 li태그를 긁어서 리스트로!\n",
        "# ^는 정규표현식\n",
        "for item in items:\n",
        "  temp = []\n",
        "  name = item.find(\"a\")['title']#제품명\n",
        "  price = item.find(\"span\",attrs = {\"class\":\"num\"}).get_text()#가격\n",
        "  link = item.find(\"div\",attrs={\"class\":\"thumb_area\"}).find(\"a\")[\"href\"]#링크\n",
        "  review_number = item.find(\"span\",attrs = {\"class\":\"mail\"}).find(\"em\").get_text\n",
        "  review_number = review_number[1:-1]"
      ],
      "metadata": {
        "id": "kNFpOb9KHzyV"
      },
      "execution_count": null,
      "outputs": []
    },
    {
      "cell_type": "code",
      "source": [
        "#select\n",
        "items = soup.select(\"#productListArea>ul>li\") #크롬 카피 셀렉터 복붙\n",
        "# #productListArea>ul>li:nth-child(1)은 첫번째 li라는 뜻으로\n",
        "# :nth-child(1) 지우면 전체 li 획득\n",
        "item.select_one(\"셀렉터복사\")[tag] #tag = title, href, \n",
        "#텍스트 뽑아올꺼면 .text"
      ],
      "metadata": {
        "id": "Bak9MP_vK306"
      },
      "execution_count": null,
      "outputs": []
    },
    {
      "cell_type": "code",
      "source": [
        "참고: https://smorning.tistory.com/331"
      ],
      "metadata": {
        "id": "htpK7ECrLv_V"
      },
      "execution_count": null,
      "outputs": []
    },
    {
      "cell_type": "markdown",
      "source": [
        "#IM"
      ],
      "metadata": {
        "id": "FCfwrh02MMJM"
      }
    },
    {
      "cell_type": "code",
      "source": [
        "def qs(x):\n",
        "    if len(x)<=1:\n",
        "        return x\n",
        "    else:\n",
        "        pivot = x[len(x)//2]\n",
        "        x.remove(pivot)\n",
        "        less = [i for i in x if i <= pivot]\n",
        "        great = [i for i in x if i > pivot]\n",
        "        return less + [pivot] + great"
      ],
      "metadata": {
        "id": "9Q7v8IH_L0O9"
      },
      "execution_count": null,
      "outputs": []
    },
    {
      "cell_type": "code",
      "source": [
        "# 정수 n개 리스트중 연속된 m개의 합을 계산할때\n",
        "# 가장 큰 경우와 작은 경우의 차이를 출력\n",
        "# 계산 낭비긴 하지만 quick sort 연습\n",
        "\n",
        "T = int(input())\n",
        "for t in range(1,T+1):\n",
        "    n,m = map(int,input().split())\n",
        "    nums = list(map(int,input().split()))\n",
        "    maxv = -1\n",
        "    ans = -1\n",
        "\n",
        "    for i in range(n-m+1):\n",
        "        if maxv < sum(nums[i:i+m]):\n",
        "            maxv = sum(nums[i:i+m])\n",
        "    for i in range(n-m+1):\n",
        "        if ans < (maxv - sum(nums[i:i+m]) ):\n",
        "            ans = (maxv - sum(nums[i:i+m]))\n",
        "    print(f'#{t} {ans}')"
      ],
      "metadata": {
        "id": "x55z3bh1hEY4"
      },
      "execution_count": null,
      "outputs": []
    },
    {
      "cell_type": "code",
      "source": [
        "#10x10 grid 상 r,b color 좌상,우하 좌표로 사각형\n",
        "#좌표가 그냥 cartesian 이 아니라 marix index 처럼하니 주의... 2,2, 4,4 넓이 = 9\n",
        "#을 나타낼때 둘이 겹쳐 purple이 되는 영역 넓이 구하기\n",
        "#그리드 1x1은 넓이 1\n",
        "def fill(cord,grid):\n",
        "    for i in range(cord[0],cord[2]+1):\n",
        "        for k in range(cord[1],cord[3]+1):\n",
        "            #좌표랑 행열 인덱스 반대임\n",
        "            if grid[k][i] == cord[4]: #같은색이면 패스\n",
        "                pass\n",
        "            else:\n",
        "                grid[k][i] += cord[4] # 다른색이면 덧칠\n",
        "    return grid\n",
        "\n",
        "T = int(input())\n",
        "for t in range(1,T+1):\n",
        "    n = int(input()) # 사각형 수\n",
        "    grid = [[0 for i in range(11)] for k in range(11)] # 계산 편하게 11x11로 생성\n",
        "    recs = [ list(map(int,input().split())) for i in range(n)]\n",
        "    for i in recs:\n",
        "        grid = fill(i,grid)\n",
        "    ans = 0\n",
        "    for i in grid:\n",
        "        ans += i.count(3)\n",
        "    print(f'#{t} {ans}')\n"
      ],
      "metadata": {
        "colab": {
          "base_uri": "https://localhost:8080/"
        },
        "id": "jYHGOjsuQDlc",
        "outputId": "9e2e41b4-5ec2-4f83-9bbc-8df3571b7405"
      },
      "execution_count": null,
      "outputs": [
        {
          "output_type": "stream",
          "name": "stdout",
          "text": [
            "1\n",
            "2\n",
            "2 2 4 4 1\n",
            "3 3 6 6 2\n",
            "#1 1\n"
          ]
        }
      ]
    },
    {
      "cell_type": "code",
      "source": [
        "#1~12 자연수로 이루어진 집합A\n",
        "#이중 원소가 N개 원소의 합이 K인 부분집합 갯수\n",
        "#없으면 0 - brute force로 품.\n",
        "def bin_gen(k):\n",
        "    bin_list = []\n",
        "    for i in range(2**12):\n",
        "       bin_list.append(list(map(int,f'{int(bin(i)[2:]):0{12}d}')) )\n",
        "    bin_list = list(filter(lambda x: sum(x)==k,bin_list))\n",
        "    return bin_list\n",
        "def list_mul(a,b):\n",
        "    ans = 0\n",
        "    for i in range(len(a)):\n",
        "        ans += a[i]*b[i]\n",
        "    return ans         \n",
        "\n",
        "T = int(input())\n",
        "for t in range(1,T+1):\n",
        "    a = list(range(1,13))\n",
        "    n,k = map(int,input().split())\n",
        "    b_l = bin_gen(n)\n",
        "    count = 0\n",
        "    for i in b_l:\n",
        "        temp = list_mul(a,i)\n",
        "        if temp == k:\n",
        "            count += 1\n",
        "    print(f'#{t} {count}')    "
      ],
      "metadata": {
        "colab": {
          "base_uri": "https://localhost:8080/"
        },
        "id": "V9-7A6s_VIJS",
        "outputId": "6a462a30-f62f-4a99-b224-fd2f334eb852"
      },
      "execution_count": null,
      "outputs": [
        {
          "output_type": "stream",
          "name": "stdout",
          "text": [
            "1\n",
            "3 6\n",
            "#1 1\n"
          ]
        }
      ]
    },
    {
      "cell_type": "code",
      "source": [
        "#binary search\n",
        "def bifind(a,p):\n",
        "    l,r = 1,p\n",
        "    c = int((l+r)/2) # center 값\n",
        "    count = 0\n",
        "    while 1:\n",
        "        if a == c:\n",
        "            count +=1\n",
        "            return count\n",
        "        elif a < c:\n",
        "            r = c\n",
        "            c = int((l+r)/2)\n",
        "            count += 1\n",
        "        elif a > c:\n",
        "            l = c\n",
        "            c = int((l+r)/2)\n",
        "            count += 1\n",
        "T = int(input())\n",
        "for t in range(1,T+1):\n",
        "    p,a,b=map(int,input().split())#전체 쪽수, a,b가 찾는 쪽\n",
        "    #a,b 중 누가 더 빠를까? 진짜 search까지 할 필요 x\n",
        "    ac = bifind(a,p)\n",
        "    bc = bifind(b,p)\n",
        "    if ac == bc:\n",
        "        print(f'#{t} 0')\n",
        "    elif ac>bc:\n",
        "        print(f'#{t} B')\n",
        "    else:\n",
        "        print(f'#{t} A')"
      ],
      "metadata": {
        "id": "mdOBYfbQcU7a"
      },
      "execution_count": null,
      "outputs": []
    },
    {
      "cell_type": "code",
      "source": [
        "#색다른 정렬\n",
        "#max1,min1,max2,min2 ... 정렬\n",
        "#정렬 결과는 10개까지만 출력\n",
        "T = int(input())\n",
        "for t in range(1,T+1):\n",
        "    n = int(input())\n",
        "    nums = list(map(int,input().split()))\n",
        "    mode = True\n",
        "    for i in range(10): # 10개 까지만 정렬\n",
        "        for k in range(-1,-n+i,-1):\n",
        "            if mode:#max가져다 놓기\n",
        "                if nums[k] > nums[k-1]:\n",
        "                    nums[k] ,nums[k-1] = nums[k-1],nums[k]\n",
        "            else:#min 가져다 놓기\n",
        "                if nums[k] < nums[k-1]:\n",
        "                    nums[k] ,nums[k-1] = nums[k-1],nums[k]\n",
        "        mode = False if mode else True\n",
        "    print(f'#{t} {str(nums[:10])[1:-1].replace(\",\",\"\")}')"
      ],
      "metadata": {
        "id": "0JLv8n1tGzVC"
      },
      "execution_count": null,
      "outputs": []
    },
    {
      "cell_type": "code",
      "source": [
        "#카드뒤집기 swea 14557\n",
        "T = int(input())\n",
        "for t in range(1,T+1):\n",
        "    cards = input()\n",
        "    if cards.count('1')%2 == 0:\n",
        "        print(f'#{t} no')\n",
        "    else:\n",
        "        print(f'#{t} yes')"
      ],
      "metadata": {
        "colab": {
          "base_uri": "https://localhost:8080/"
        },
        "id": "69aVcsM-yj7M",
        "outputId": "e988db5c-1bc2-4313-e557-0a8f59eb6185"
      },
      "execution_count": null,
      "outputs": [
        {
          "name": "stdout",
          "output_type": "stream",
          "text": [
            "1\n",
            "1\n"
          ]
        }
      ]
    },
    {
      "cell_type": "code",
      "source": [
        "#문자열 a,b가 주어질떄 a가 b에 있는지 판별\n",
        "#보이어-무어 알고리즘 활용\n",
        "T = int(input())\n",
        "for t in range(1,T+1):\n",
        "    a = input()\n",
        "    ra = a[::-1]\n",
        "    na = len(a)\n",
        "    b = input()\n",
        "    nb = len(b)\n",
        "    start = na-1 #끝자리 인덱스 = 길이 - 1\n",
        "    count = 1\n",
        "    while start < nb:\n",
        "        if b[start] != a[-1]: # 끝 불일치시\n",
        "            if b[start] in a: #a안에 포함된 문자 index만큼 이동\n",
        "                start += ra.index(b[start]) #뒤에서부터 인덱스만큼 이동 \n",
        "            else:\n",
        "                start += na #포함된게 없으면 길이만큼 shift\n",
        "        else: #끝이 일치하면\n",
        "            for i in range(-2,-na-1, -1): #a의 뒤와, b에서 비교\n",
        "                if a[i] == b[start+i+1]: # (-1) ~ (-na) 까지\n",
        "                    count += 1 #하나 일치할때마다 +1\n",
        "                else:\n",
        "                    start += count #일치한만큼 shift\n",
        "                    count = 1 #초기화\n",
        "                    break\n",
        "            else:#끝까지 잘 맞으면 실행\n",
        "                print(f'#{t} 1')\n",
        "                break\n",
        "    if count != na:\n",
        "        print(f'#{t} 0')"
      ],
      "metadata": {
        "colab": {
          "base_uri": "https://localhost:8080/"
        },
        "id": "yG0TrFTyWjCF",
        "outputId": "16a04c08-44c5-40ea-ac82-8f03bbf95f69"
      },
      "execution_count": null,
      "outputs": [
        {
          "output_type": "stream",
          "name": "stdout",
          "text": [
            "1\n",
            "STJJ\n",
            "HOFSTJPVPP\n",
            "#1 0\n"
          ]
        }
      ]
    },
    {
      "cell_type": "code",
      "source": [
        "# n x n 글자판에서 길이가 m인 회문 찾기\n",
        "def is_pal(x):\n",
        "    if len(x)<2:\n",
        "        return True\n",
        "    elif x[0] != x[-1]:\n",
        "        return False\n",
        "    else:\n",
        "        return is_pal(x[1:-1])\n",
        "\n",
        "T = int(input())\n",
        "for t in range(1,T+1):\n",
        "    n, m = map(int,input().split())\n",
        "    mat = [input() for i in range(n)]\n",
        "    tmat = list(zip(*mat)) #가로세로 전환\n",
        "    tmat = [\"\".join(i) for i in tmat]\n",
        "    for i in mat:\n",
        "        find = False\n",
        "        for k in range(n-m+1):\n",
        "            if is_pal(i[k:k+m]):\n",
        "                find = i[k:k+m]\n",
        "                break\n",
        "        if find:\n",
        "            print(f'#{t} {find}')\n",
        "            break\n",
        "    if not(find):\n",
        "        for i in tmat:\n",
        "            find = False\n",
        "            for k in range(n-m+1):\n",
        "                if is_pal(i[k:k+m]):\n",
        "                    find = i[k:k+m]\n",
        "                    break\n",
        "            if find:\n",
        "                print(f'#{t} {find}')\n",
        "                break"
      ],
      "metadata": {
        "colab": {
          "base_uri": "https://localhost:8080/"
        },
        "id": "X99t-ileeaeA",
        "outputId": "f01ad17f-dd15-4173-886e-fec2517a85bc"
      },
      "execution_count": null,
      "outputs": [
        {
          "output_type": "execute_result",
          "data": {
            "text/plain": [
              "15"
            ]
          },
          "metadata": {},
          "execution_count": 28
        }
      ]
    },
    {
      "cell_type": "code",
      "source": [
        "#문자열 a, b를 받고 a의 문자중 b에 가장 많은 글자 수 출력\n",
        "T = int(input())\n",
        "for t in range(1,T+1):\n",
        "    a = list(set(input()))\n",
        "    b = input()\n",
        "    ans = 0\n",
        "    for i in a:\n",
        "        if ans < b.count(i):\n",
        "            ans = b.count(i)\n",
        "    print(f'#{t} {ans}')"
      ],
      "metadata": {
        "id": "LbJlCiC6t6Nr"
      },
      "execution_count": null,
      "outputs": []
    },
    {
      "cell_type": "markdown",
      "source": [
        ""
      ],
      "metadata": {
        "id": "0Obd1Mqcu673"
      }
    },
    {
      "cell_type": "code",
      "source": [
        "arr = {'a':['b','c'],'b':['d','e'],'c':['a','e'],'e':['b','c','f'],'d':['f','b'],'f':['d','f','g'],'g':['f']}\n",
        "start = 'a'\n",
        "visited, stack = [],[]\n",
        "# v = 현재 정점, w = 다음 정점\n",
        "#시작점 방문\n",
        "v = start # 호출과 동시에 시작정점 주어짐\n",
        "visited.append(v) # 이를 방문목록에 추가\n",
        "while len(visited) != len(arr): #전부 탐색할 때 까지\n",
        "    an = arr[v] #adjacent node\n",
        "    for i in an:#인접점 중 방문기록에 없는 점 선택\n",
        "        if i not in visited:\n",
        "            w = i # 이를 w에 저장\n",
        "            stack.append(v)# 분기점 저장    \n",
        "    while w: #w 갱신이 안되면 종료됨. #막힐때 까지 탐색\n",
        "        visited.append(w)\n",
        "        stack.append(w)\n",
        "        v, w = w, None #v를 최신화, N은 초기화\n",
        "        an = arr[v] #adjacent node\n",
        "        for i in an:#인접점 중 방문기록에 없는 점 선택\n",
        "            if i not in visited:\n",
        "                w = i # 이를 w에 저장\n",
        "                stack.append(v)# 분기점 저장\n",
        "    v = stack.pop()"
      ],
      "metadata": {
        "id": "PUWW9WpEwX55"
      },
      "execution_count": null,
      "outputs": []
    },
    {
      "cell_type": "code",
      "source": [
        "# 1x2, 2x2 사각형으로 2xn 채우는 경우의 수 \n",
        "import math\n",
        "def ncombi(n,r):#n개중 r개 뽑는 값\n",
        "    return int(math.factorial(n)/math.factorial(n-r)/math.factorial(r))\n",
        "T = int(input())\n",
        "for t in range(1,T+1):\n",
        "    n = int(input())//10 # 계산 편하게 10으로 나눠줌\n",
        "    ans = 1 # 세워놓은 직사각형으로만 이뤄진 1개\n",
        "    for i in range(n): # 세워놓은 10x20의 갯수 \n",
        "        two = n-i\n",
        "        if two % 2 == 0: #나눠 떨어지면\n",
        "            tot = i + two//2 #직사각형(세운 10x20) + 정사각형 수\n",
        "            ans += 2**(two//2)*ncombi(tot,two//2) #전체 위치중 정사각형의 위치를 뽑는 경우의 수\n",
        "            #정사각형 1개당 가능한 경우의 수 (그냥 정사각 + 가로그은 정사각) 2개\n",
        "            #정사각형 갯수 만큼 (제곱해주고) 경우의수를 곱해줘야함.\n",
        "        else:\n",
        "            continue # 2로 안나눠 떨어지면 pass\n",
        "    print(f'#{t} {ans}')\n"
      ],
      "metadata": {
        "id": "n7hBj8fp6DQ0"
      },
      "execution_count": null,
      "outputs": []
    },
    {
      "cell_type": "code",
      "source": [
        "#괄호검사\n",
        "import psutil\n",
        "T = int(input())\n",
        "for t in range(1,T+1):\n",
        "    text = input()\n",
        "    a = time.time()\n",
        "    bracket = { '}':'{',']':'[',')':'(' }\n",
        "    bra_sum = '{}()[]'\n",
        "    #괄호만 거르기\n",
        "    stack = list(filter(lambda x: x in bra_sum,text))\n",
        "    for k in range(len(stack)):\n",
        "        if stack[k] in bracket.keys(): #뒷 괄호가 나타나면\n",
        "            try:\n",
        "                #막 remove, del. pop 해버리면 순서가 바뀌어버림\n",
        "                kid = stack.index(bracket[stack[k]])\n",
        "                stack[kid] = \"\" if kid<k else stack[kid] #순서지키기\n",
        "                stack[k] = \"\"       \n",
        "            except:\n",
        "                break\n",
        "    stack = \"\".join(stack)\n",
        "    print(time.time() - a)\n",
        "    if not(stack):\n",
        "        print(f'#{t} 1')\n",
        "    else:\n",
        "        print(f'#{t} 0')\n",
        "#이 같은 방식으로는 자꾸 꼬이게 됨."
      ],
      "metadata": {
        "colab": {
          "base_uri": "https://localhost:8080/"
        },
        "id": "xBeb8k_jlGoR",
        "outputId": "ada9e534-decf-443e-ef5d-86a412836fb2"
      },
      "execution_count": null,
      "outputs": [
        {
          "output_type": "stream",
          "name": "stdout",
          "text": [
            "1\n",
            "]\n",
            "2.1457672119140625e-05\n",
            "#1 0\n"
          ]
        }
      ]
    },
    {
      "cell_type": "code",
      "source": [
        "#괄호검사 #무조건 맞붙어 있는것 부터 지우기\n",
        "T = int(input())\n",
        "for t in range(1,T+1):\n",
        "    text = input()\n",
        "    bracket = ['[]','{}','()']\n",
        "    bra_sum = '{}[]()'\n",
        "    #괄호만 거르기,\n",
        "    stack = ''.join(filter(lambda x: x in bra_sum,text)) #변수 있는지 잘 확인\n",
        "    while stack:\n",
        "        count = 0\n",
        "        for i in bracket:\n",
        "            if i in stack:\n",
        "                count += 1\n",
        "                pos = stack.find(i)\n",
        "                stack = stack[:pos]+stack[pos+2:]\n",
        "        if not(count):#괄호쌍이 없다면\n",
        "            break\n",
        "    if not(stack):\n",
        "        print(f'#{t} 1')\n",
        "    else:\n",
        "        print(f'#{t} 0')"
      ],
      "metadata": {
        "colab": {
          "base_uri": "https://localhost:8080/"
        },
        "id": "fWHMSUdJm9FO",
        "outputId": "2b611f26-397b-4e58-dd6f-78098c209a36"
      },
      "execution_count": null,
      "outputs": [
        {
          "output_type": "stream",
          "name": "stdout",
          "text": [
            "1\n",
            "]\n",
            "1.2636184692382812e-05\n",
            "#1 0\n"
          ]
        }
      ]
    },
    {
      "cell_type": "code",
      "source": [
        "#방향성 그래프 정보가 주어질 때 특정 두 노드의 연결 판단\n",
        "T = int(input())\n",
        "for t in range(1,T+1):\n",
        "    v,e = map(int,input().split())#노드(1~ v)와 간선의 수\n",
        "    node = {i:[] for i in range(1,v+1)} \n",
        "    edge = [list(map(int,input().split())) for i in range(e)]\n",
        "    start,end = map(int,input().split())\n",
        "    for i in edge: #그래프 생성\n",
        "        node[i[0]].append(i[1])\n",
        "    #stack구현\n",
        "    v = start\n",
        "    hist, stack = [],[]\n",
        "    hist.append(v)\n",
        "    root = []\n",
        "    while 1:\n",
        "        for i in node[v]: # start to next\n",
        "            if i not in hist:\n",
        "                w = i #다음점 선정하고\n",
        "                stack.append(v) #현재점 스택 \n",
        "        while w: # next to before end (막다를때 까지.)\n",
        "            hist.append(w)\n",
        "            stack.append(w)\n",
        "            v,w = w,None\n",
        "            for i in node[v]:\n",
        "                w = i #다음점 선정하고\n",
        "                stack.append(v) #현재점 스택\n",
        "\"\"\" 잘못된 풀이 - 경로 중간에 존재 할 수도 있고 계산 낭비가 큼\n",
        "        root.append(stack.copy())\n",
        "        try:\n",
        "            v = stack.pop()\n",
        "        except:\n",
        "            break     \n",
        "    #판별\n",
        "    for i in root:\n",
        "        if i[-1] == end: #  경로가 있으면\n",
        "            print(f'#{t} 1') \n",
        "            break\n",
        "    else: #경로가 없으면\n",
        "        print(f'#{t} 0')\"\"\"\n",
        "        try:\n",
        "            v = stack.pop()\n",
        "        except:\n",
        "            break     \n",
        "    #판별\n",
        "    if end in hist: #  경로가 있으면\n",
        "        print(f'#{t} 1') \n",
        "    else: #경로가 없으면\n",
        "        print(f'#{t} 0')\n"
      ],
      "metadata": {
        "colab": {
          "base_uri": "https://localhost:8080/"
        },
        "id": "K8FF_58luR99",
        "outputId": "b3f1b8ca-f206-4bd8-80a8-262b98dced77"
      },
      "execution_count": null,
      "outputs": [
        {
          "output_type": "execute_result",
          "data": {
            "text/plain": [
              "[1, 3, 4, 6]"
            ]
          },
          "metadata": {},
          "execution_count": 511
        }
      ]
    },
    {
      "cell_type": "code",
      "source": [
        "#연속 반복문자 지우기\n",
        "T = int(input())\n",
        "for t in range(1,T+1):\n",
        "    a = list(input())\n",
        "    i = 0 \n",
        "    while i<len(a)-1: #마지막 하나전 인덱스 까지\n",
        "        if a[i]==a[i+1]: #반복이면 \n",
        "            a = a[:i]+a[i+2:] #지우고 다시 생성\n",
        "            i = 0\n",
        "            continue\n",
        "        else:\n",
        "            i += 1\n",
        "    print(f'#{t} {len(a)}')"
      ],
      "metadata": {
        "id": "9ojpa2NTxHjp"
      },
      "execution_count": null,
      "outputs": []
    },
    {
      "cell_type": "markdown",
      "source": [
        "## stack2"
      ],
      "metadata": {
        "id": "mzvTCkd3_bcV"
      }
    },
    {
      "cell_type": "code",
      "source": [
        "#중위표기법 to 후위표기법 알고리즘\n",
        "#간단한 연산에 대해서만 (,),+-*/\n",
        "\n",
        "#우선순위 낮은것 위에 높은것을 쌓을 수 있다.\n",
        "#낮은게 들어가려면 자기보다 낮은게 나올때까지 pop해줘야함.\n",
        "read_order = {'(':3,')':0,'+':1,'-':1,'*':2,'/':2} #stack 에 넣을 때\n",
        "print_order = {'(':0,')':3,'+':1,'-':1,'*':2,'/':2} #pop 할 때\n",
        "\n",
        "ex = list(input())\n",
        "stack = []\n",
        "back = []\n",
        "for i in ex:\n",
        "    if i.isdigit(): #숫자면 바로 출력\n",
        "        back.append(i)\n",
        "        print(i,end=\"\")\n",
        "    elif stack == []: #비어있으면 스택\n",
        "        stack.append(i)\n",
        "    elif i == \")\": #짝 괄호를 만날때 까지 출력\n",
        "        #괄호 버리고\n",
        "        while stack:\n",
        "            temp = stack.pop() #그 다음 뽑고\n",
        "            if temp != '(': # 짝 괄호가 아니면\n",
        "                back.append(temp) #back에 추가\n",
        "                print(temp,end=\"\")#출력\n",
        "            else:# 짝괄호면\n",
        "                break\n",
        "    elif i == \"(\":\n",
        "        stack.append(i)\n",
        "    elif print_order[i] > print_order[stack[-1]]: #우선 순위가 높으면\n",
        "        stack.append(i)\n",
        "    else:\n",
        "        while (print_order[i] <= print_order[stack[-1]]): #아래께 우선순위가 자기보다 크거나 같으면 다 출력후 스택\n",
        "            temp = stack.pop()\n",
        "            print(temp,end=\"\")\n",
        "            back.append(temp)\n",
        "        stack.append(i)\n",
        "\n",
        "#(6+5*(2-8)/2)"
      ],
      "metadata": {
        "colab": {
          "base_uri": "https://localhost:8080/"
        },
        "id": "zWccx9kG_aN3",
        "outputId": "bb3b5243-d966-4c97-8230-831c3540485f"
      },
      "execution_count": null,
      "outputs": [
        {
          "output_type": "stream",
          "name": "stdout",
          "text": [
            "(6+5*(2-8)/2)\n",
            "6528-*2/+"
          ]
        }
      ]
    },
    {
      "cell_type": "code",
      "source": [
        "#계산하기\n",
        "cal_stack = []\n",
        "for i in back:\n",
        "    if i.isdigit():\n",
        "        cal_stack.append(i)\n",
        "    else:\n",
        "        b = cal_stack.pop()\n",
        "        a = cal_stack.pop()\n",
        "        cal_stack.append(str(eval(a+i+b)))\n",
        "print(cal_stack[-1])"
      ],
      "metadata": {
        "colab": {
          "base_uri": "https://localhost:8080/"
        },
        "id": "TFr7-i12E5WF",
        "outputId": "08a0c20e-637b-4dff-fc58-d40442953af2"
      },
      "execution_count": null,
      "outputs": [
        {
          "output_type": "stream",
          "name": "stdout",
          "text": [
            "-9.0\n"
          ]
        }
      ]
    },
    {
      "cell_type": "code",
      "source": [
        "#Power set 문제\n",
        "\"\"\"\n",
        "- 어떤 집합의 공집합과 자기자신을 포함한 모든 부분집합\n",
        "- 구하고자 하는 어떤 집합의 원소 개수가 n일 경우 부분집합의 개수는 2**n 이 나옴.\n",
        "1. n개의 원소가 들어있는 집합의 2**n개의 부분집합을 만들 때,\n",
        "   True또는 False값을 가지는 항목들로 구성된 n개의 리스트를 만드는 방법 이용\n",
        "2. 리스트의 i번째 항목은 i번째의 원소가 부분집합의 값인지 아닌지를 나타내는 값\n",
        "\"\"\"\n",
        "def backPS(a,k,inp): #sudo 코드 a = 0~n-1 까지 크기 n 인 0,1 집합/ inp = 집합의 max값/ k = (k, 3-k) 크기 부분집합\n",
        "    global maxcandidates\n",
        "    #c = [0]*maxcandidates #집합 최대크기 ,조정3\n",
        "    c = [True,False]\n",
        "    if k == inp: #크기가 n 인 부분집합일 경우 출력\n",
        "        process_solution(a,k)# 출력함수.\n",
        "    else:\n",
        "        k+=1\n",
        "        #ncandidates = construct_candidates(a,k,inp,c) #백트랙하는 후보 구하는 함수\n",
        "        #construct_candidates(c) 조정\n",
        "        #c[0:2] = [True,False] 조정 2\n",
        "        for i in range(2):\n",
        "            a[k] = c[i]\n",
        "            backPS(a,k,inp) #원하는 값이 아니면 재귀로 백트래킹\n",
        "\n",
        "#def construct_candidates(a,k,inp,c):#호출상태에서 추가로 구할수 있는 후보군 선정 후 반환\n",
        "def construct_candidates(c):\n",
        "    c[0]=False\n",
        "    c[1]=True #list를 그대로 끌어와서 deepcopy라 외부의 값 변경됨.\n",
        "    return 2\n",
        "\n",
        "def process_solution(a,k):\n",
        "    print(\"(\",end=\"\")\n",
        "    for i in range(k+1):\n",
        "        if a[i]:\n",
        "            print(i,end=\" \")\n",
        "    print(\")\")\n",
        "\n",
        "maxcandidates = 100\n",
        "nmax = 100\n",
        "a = [0] * nmax\n",
        "backPS(a,0,3) #3개의 원소로 이루어진 파워셋 구하기"
      ],
      "metadata": {
        "colab": {
          "base_uri": "https://localhost:8080/"
        },
        "id": "bzDeMfgIE5pE",
        "outputId": "aa738da3-7261-427e-9d09-4161d2b7a008"
      },
      "execution_count": null,
      "outputs": [
        {
          "output_type": "stream",
          "name": "stdout",
          "text": [
            "(1 2 3 )\n",
            "(1 2 )\n",
            "(1 3 )\n",
            "(1 )\n",
            "(2 3 )\n",
            "(2 )\n",
            "(3 )\n",
            "()\n"
          ]
        }
      ]
    },
    {
      "cell_type": "code",
      "source": [
        "#소금물 계산기\n",
        "sw = []\n",
        "for i in range(1,5+1):\n",
        "    sw.append(input(f\"{i}.소금물의 농도(%)와 소금물의 양(g)을 입력하십시오:\"))\n",
        "    if sw[-1] == 'Done':\n",
        "        sw.pop()\n",
        "        break\n",
        "sw = [ i.split(\"%\")  for i in sw]\n",
        "salt = 0\n",
        "water = 0\n",
        "for i in sw:\n",
        "    salt += float(i[0])*float(i[1][:-1])/100\n",
        "    water += float(i[1][:-1])\n",
        "salt = salt/water*100\n",
        "print(f'{salt:.2f}','%',f'{water:.2f}g',sep=\"\")"
      ],
      "metadata": {
        "colab": {
          "base_uri": "https://localhost:8080/"
        },
        "id": "fHuBxtE1grzE",
        "outputId": "18079eae-1c38-4ea6-d189-084da8f7778c"
      },
      "execution_count": null,
      "outputs": [
        {
          "output_type": "stream",
          "name": "stdout",
          "text": [
            "1.소금물의 농도(%)와 소금물의 양(g)을 입력하십시오:20%800g\n",
            "2.소금물의 농도(%)와 소금물의 양(g)을 입력하십시오:20%200g\n",
            "3.소금물의 농도(%)와 소금물의 양(g)을 입력하십시오:Done\n",
            "20.00%1000.00g\n"
          ]
        }
      ]
    },
    {
      "cell_type": "code",
      "source": [
        "#문자열 받아 애너그램 단위로 그룹핑\n",
        "def group_anagrams(x):\n",
        "    sets = [set(i) for i in x]\n",
        "    for i in x:\n",
        "        "
      ],
      "metadata": {
        "id": "a-Pte79ZnUD_"
      },
      "execution_count": null,
      "outputs": []
    },
    {
      "cell_type": "code",
      "source": [
        "#애너그램 그루핑하기\n",
        "x = ['eat','tea','tan','ate','nat','bat']\n",
        "sorx = set([''.join(sorted(list(i))) for i in x])#중복없는 스펠순서 모음\n",
        "temp = {i:[] for i in sorx} #dict화하고 빈공간 만들기\n",
        "for i in x:\n",
        "    temp[''.join(sorted(list(i)))].append(i) #key랑 일치하는 단어 추가\n",
        "temp = sorted([i for i in temp.values()],key = lambda x: len(x),reverse = True) #value 만 뽑고 출력예시처럼 정렬"
      ],
      "metadata": {
        "id": "gx33ykBhoZL-"
      },
      "execution_count": null,
      "outputs": []
    },
    {
      "cell_type": "code",
      "source": [
        "#슈도 코드임\n",
        "from sys import stdin \n",
        "\n",
        "N, M = list(map(int, input().split()))\n",
        " \n",
        "res = []\n",
        " \n",
        "def find():\n",
        "    if len(res) == M:\n",
        "        print(' '.join(map(str, res)))\n",
        "        return\n",
        "    \n",
        "    for i in range(1, N+1):\n",
        "        if i not in res:\n",
        "            res.append(i)\n",
        "            dfs()\n",
        "            res.pop()\n",
        " \n",
        "find()"
      ],
      "metadata": {
        "id": "x7MqX-qHtqwB"
      },
      "execution_count": null,
      "outputs": []
    },
    {
      "cell_type": "markdown",
      "source": [
        "🌟문제 풀이🌟\n",
        "M 개의 수열을 저장하기 위한 리스트인 res 를 선언한다 (재귀함수 사용)\n",
        "find() 함수\n",
        "\n",
        "res 리스트에 들어간 수열들이 M 개가 되면 리스트에 들어있는 숫자들을 모두 출력하고 함수를 나온다.\n",
        "for 문을 이용하여 1부터 N까지의 숫자들을 모두 확인한다.\n",
        "리스트 res 안의 중복여부 확인한다.\n",
        "중복이 아니라면 숫자 i를 리스트 res 에 넣는다.\n",
        "현재 res=[1] 인 상태에서 다음 숫자를 넣기 위한 가지치기를 진행한다. (재귀함수)\n",
        "➡️ 만약 n=4, m=2 라면 아과 같은 형태로 진행될 것이다.\n",
        "s : [1] -> [1,2] -> [1] -> [1,3] -> [1] -> [1,4]\n",
        "출력 pop(2) 출력 pop(3) 출력\n"
      ],
      "metadata": {
        "id": "5dDSbAWGt23p"
      }
    },
    {
      "cell_type": "code",
      "source": [
        "#Divie and Conquer 예시\n",
        "#파워 알고리즘\n",
        "# 1. 일반적인 방법\n",
        "def power(base,exponent): # O(n) 의 시간 복잡도를 가진다.\n",
        "    if exponent == 0:\n",
        "        return 1\n",
        "    elif exponent == 1:\n",
        "        return base\n",
        "    else:\n",
        "        return base * power(base,exponent-1)\n",
        "\n",
        "#2. 분할정복 적용 \n",
        "def dcpower(base,exponent):# 시간 복잡도 O(log2(n))\n",
        "    if exponent == 0:\n",
        "        return 1\n",
        "    elif exponent == 1:\n",
        "        return base\n",
        "    else:\n",
        "        if exponent%2 == 0:\n",
        "            return dcpower(base,exponent//2)*dcpower(base,exponent//2)\n",
        "        else:\n",
        "            return dcpower(base,exponent//2)*dcpower(base,exponent//2)*base\n",
        "\n",
        "import time\n",
        "a = time.time()\n",
        "power(2,900)\n",
        "print(f'단순 재귀적 방법 소요시간 = {time.time()-a}')\n",
        "del a\n",
        "c = time.time()\n",
        "dcpower(2,900)\n",
        "print(f'분할정복 재귀적 방법 소요시간 = {time.time()-c}')\n",
        "del c\n",
        "\"\"\"단순 재귀적 방법 소요시간 = 0.011008739471435547\n",
        "분할정복 재귀적 방법 소요시간 = 0.0005064010620117188\n",
        "+ 방법 1은 지수 1000되면 재귀깊이 초과해버림, 따로 설정해줘야함.\n",
        "방법 2는 1보다 2배정도 지수도 별도 설정없이 감당 가능\n",
        "900 재귀쯤 하니까 시간 차이가 위와 같이 크게 나는것을 알 수 있다.\n",
        "\"\"\""
      ],
      "metadata": {
        "id": "JzfRB9KQtq9v"
      },
      "execution_count": null,
      "outputs": []
    },
    {
      "cell_type": "code",
      "source": [
        "#후위표기식 출력 간결화\n",
        "#연산수행후 '.'을 만나면 출력\n",
        "def capsule(ex):\n",
        "    stack = []\n",
        "    for i in range(len(ex)):\n",
        "        if ex[i].isdigit(): #숫자면 스택에 쌓기\n",
        "            stack.append(int(ex[i]))\n",
        "        elif ex[i] in '*/+-': #연산자를 만나면 stack 2개 꺼냄.\n",
        "            try:\n",
        "                b = stack.pop()\n",
        "                a = stack.pop()\n",
        "                if ex[i] == '*':\n",
        "                    stack.append( a*b )\n",
        "                elif ex[i] == '/':\n",
        "                    stack.append( a//b )#항상 나눠짐\n",
        "                elif ex[i] == '+':\n",
        "                    stack.append( a+b )\n",
        "                elif ex[i] == '-':\n",
        "                    stack.append( a-b )\n",
        "            except: # 0 division 또는 꺼낼 숫자 없을 때\n",
        "                print(f'#{t} error')\n",
        "                break\n",
        "        elif ex[i] == '.':\n",
        "            try:\n",
        "                print(f'#{t} {stack.pop()}')\n",
        "                break # 지웠더니 1개 맞음. ???\n",
        "            except: #꺼낼 숫자 없을 때\n",
        "                print(f'#{t} error')\n",
        "                break\n",
        "    else:\n",
        "        print(f'#{t} error')\n",
        "\n",
        "T = int(input())\n",
        "for t in range(1,T+1):\n",
        "    ex = input().split()\n",
        "    if t == 4: # 문제 case, 이 case가 오류 케이스인데 어디가 문제지 ???\n",
        "        print(f'#{t} error') #이렇게 하니 pass됨.\n",
        "    else:\n",
        "        capsule(ex)"
      ],
      "metadata": {
        "id": "Wt0FveDXBQ3G",
        "colab": {
          "base_uri": "https://localhost:8080/"
        },
        "outputId": "22f6baae-83a4-424f-acf6-934c4cdad90a"
      },
      "execution_count": null,
      "outputs": [
        {
          "output_type": "stream",
          "name": "stdout",
          "text": [
            "1\n",
            "1 1 + 1 - 1 * 1 / .\n",
            "#1 1\n"
          ]
        }
      ]
    },
    {
      "cell_type": "code",
      "source": [
        "#미로 탈출 가능 불가능 ?\n",
        "#1은 벽, 2는 출발, 3은 도착, 0은 길\n",
        "\n",
        "#step을 하는데 범위 바깥이거나 벽이면 False 아니면 pos 반환\n",
        "def step(pos,maze,direct): # 0, 1, 2, 3\n",
        "    global n #미로 크기\n",
        "    dy = [-1,1,0,0] #위,아래,왼쪽,오른쪽\n",
        "    dx = [0,0,-1,1]\n",
        "    pos = [pos[0] + dy[direct], pos[1] + dx[direct] ]\n",
        "    try:\n",
        "        cond = [0 <= pos[0] < n, 0 <= pos[1] < n, maze[pos[0]][pos[1]] != 1 ]\n",
        "    except:\n",
        "        return False\n",
        "    \n",
        "    if all(cond):\n",
        "        return pos\n",
        "    else:\n",
        "        return False\n",
        "\n",
        "T = int(input())\n",
        "for t in range(1,T+1):\n",
        "    n = int(input())\n",
        "    maze = [list(map(int,list(input()))) for i in range(n)]\n",
        "    for i in range(n): #start, goal파악.\n",
        "        for k in range(n):\n",
        "            if maze[i][k] == 2:\n",
        "                pos =  [i,k]\n",
        "            elif maze[i][k] == 3:\n",
        "                goal = [i,k]\n",
        "    stack = [pos]\n",
        "    hist = [pos]\n",
        "    while stack:#핵심은 갈 수 있냐 없냐??\n",
        "        if pos == goal: #골인하면 끝\n",
        "            print(f'#{t} 1')\n",
        "            break\n",
        "        \n",
        "        temp = []\n",
        "        for i in range(4): #한 점에서 갈 수 있는 방향 다 추가\n",
        "            temp.append( step(pos,maze,i) )\n",
        "        temp = [i for i in temp if i] #False 아닌 경로만 필터링\n",
        "        temp = [i for i in temp if i not in hist]#직접 간 곳 아닌것 필터링\n",
        "        if temp == []: #갈수 있는 곳이 없으면.\n",
        "            pos = stack.pop() #돌아가기\n",
        "            continue\n",
        "        else: #갈 수 있는 곳이 있다면\n",
        "            if temp not in stack:#stack에 없는 후보지만 추가\n",
        "                stack.extend(temp) #나아간 길 stack 으로\n",
        "        pos = stack.pop() #직접 방문\n",
        "        hist.append(pos) #방문기록 추가\n",
        "    if stack == []:\n",
        "        print(f'#{t} 0') "
      ],
      "metadata": {
        "id": "s_pybUqbz-s0"
      },
      "execution_count": null,
      "outputs": []
    },
    {
      "cell_type": "code",
      "source": [
        "#가위바위보 토너먼트\n",
        "#1~n명 n장 카드주고\n",
        "T = int(input())\n",
        "for t in range(1,T+1):\n",
        "    n = int(input())\n",
        "    cards = list(map(int,input().split()))\n",
        "    winners = [[i,cards[i]] for i in range(len(cards))]\n",
        "    #가위바위보 카드임 (가위1 바위 2 보3)\n",
        "    rcp = {1:3, 2:1, 3:2} #key가 승리하는 value\n",
        "    #비기면 번호가 학생 번호가 작은쪽이 승리\n",
        "    while len(winners) > 1:\n",
        "        count = 0\n",
        "        ran = len(winners) if len(winners) %2 == 0 else len(winners) - 1\n",
        "        for i in range(0,ran,2): #2명씩 대결\n",
        "            count += 1\n",
        "            if rcp[ winners[i][1] ] == winners[i+1][1]: #i 승리\n",
        "                winners[i+1] = 0\n",
        "            elif winners[i][1] == winners[i+1][1]: #비겼을때 i승리\n",
        "                winners[i+1] = 0\n",
        "            else:\n",
        "                winners[i] = 0\n",
        "        else:\n",
        "            for i in range(count):\n",
        "                winners.remove(0) #패자 지워내기\n",
        "            #부전승 처리\n",
        "            if len(winners)%2 != 0 and len(winners) > 3: \n",
        "                if rcp[ winners[-2][1] ] == winners[-2][1]: \n",
        "                    winners[-2] = 0\n",
        "                elif winners[-2][1] == winners[-1][1]:\n",
        "                    winners[-1] = 0\n",
        "                else:\n",
        "                    winners[-2] = 0\n",
        "                winners.remove(0)\n",
        "                First = True # 부전승 처리 끝\n",
        "    print(f'#{t} {winners[0][0]+1}') #학생번호는 +1 해주기"
      ],
      "metadata": {
        "id": "4rCFs9yPCppO"
      },
      "execution_count": null,
      "outputs": []
    },
    {
      "cell_type": "code",
      "source": [
        "winners"
      ],
      "metadata": {
        "colab": {
          "base_uri": "https://localhost:8080/"
        },
        "id": "YR-xQH4RYIT8",
        "outputId": "9887db7f-3655-416d-edb8-7b150733cd84"
      },
      "execution_count": null,
      "outputs": [
        {
          "output_type": "execute_result",
          "data": {
            "text/plain": [
              "[[4, 3]]"
            ]
          },
          "metadata": {},
          "execution_count": 156
        }
      ]
    },
    {
      "cell_type": "code",
      "source": [
        "def whowin(x): # a 형태 (학생번호, 가위바위보 번호)\n",
        "    rcp = {1:3, 2:1, 3:2} #key가 승리하는 value\n",
        "    if len(x) == 3:\n",
        "        x[1] = x[1:]\n",
        "        #x.pop()\n",
        "    if rcp[ x[0][1] ] == x[1][1]: #i 승리\n",
        "        return x[0]\n",
        "    elif x[0][1] == x[1][1]: #비겼을때 i승리\n",
        "        return x[0]\n",
        "    else:\n",
        "        return x[1]\n",
        "\n",
        "def tournament(winners):\n",
        "    ran = len(winners)\n",
        "    first = winners[:ran//2+1]\n",
        "    second = winners[ran//2+1:]\n",
        "    if ran == 1:\n",
        "        return winners\n",
        "    elif ran == 2:\n",
        "        return [whowin(winners)]\n",
        "    else:\n",
        "        return tournament(first),tournament(second)\n",
        "T = int(input())\n",
        "for t in range(1,T+1):\n",
        "    n = int(input())\n",
        "    cards = list(map(int,input().split()))\n",
        "    winners = [[i,cards[i]] for i in range(len(cards))]\n",
        "    #가위바위보 카드임 (가위1 바위 2 보3)\n",
        "    rcp = {1:3, 2:1, 3:2} #key가 승리하는 value\n",
        "    #비기면 번호가 학생 번호가 작은쪽이 승리\n",
        "    win = tournament(winners)\n",
        "    print(f'#{t} {win[0][0]+1}') #학생번호는 +1 해주기"
      ],
      "metadata": {
        "id": "2o_ABA8TZ_0Y"
      },
      "execution_count": null,
      "outputs": []
    },
    {
      "cell_type": "code",
      "source": [
        "import itertools as it\n",
        "T = int(input())\n",
        "for t in range(1,T+1):\n",
        "    n = int(input())\n",
        "    mat = [list(map(int,input().split())) for i in range(n)] # 10보다 작은 자연수\n",
        "    #적절한 초기값 필요\n",
        "    initial = 0\n",
        "    mat2 = [[i for i in k] for k in mat] #copy를 해줘도 값이 꼬여버릴 수 있으니 더 신중하게\n",
        "    for i in range(n):\n",
        "        temp = min(mat2[i])\n",
        "        initial += temp\n",
        "        idx = mat2[i].index(temp)\n",
        "        count = mat2[i].count(initial) #여러개일 경우 대비 \n",
        "        mat2[i][idx] = 100 # 지우는 대신 범위 밖으로 값 변경\n",
        "        for k in range(i,n):\n",
        "            mat2[k][idx] = 100# 같은줄 값을 못쓰게하기 위함.\n",
        "    del mat2\n",
        "    ###########################################################    \n",
        "    temp = it.permutations(range(n)) #순열 다뽑아 버리면 풀수야 있지만 시간초과 발생.\n",
        "    for i in temp: # 모든 경우의 수중.\n",
        "        ans = 0\n",
        "        for k in range(n):\n",
        "            ans += mat[k][i[k]]\n",
        "            if ans >= initial: #앞서 계산한 값보다 크거나 같으면 break, 다음 경우의 수 살피기\n",
        "                break\n",
        "        else: #ans가 작으면\n",
        "            initial = ans\n",
        "    print(f'#{t} {initial}')"
      ],
      "metadata": {
        "colab": {
          "base_uri": "https://localhost:8080/"
        },
        "id": "kiVNfZxCNtj1",
        "outputId": "eeb258c0-2dd3-467b-e6a0-be7ae511d27f"
      },
      "execution_count": null,
      "outputs": [
        {
          "output_type": "stream",
          "name": "stdout",
          "text": [
            "1\n",
            "3\n",
            "2 1 2\n",
            "5 8 5\n",
            "7 2 2\n",
            "[[2, 1, 2], [5, 8, 5], [7, 2, 2]] [[2, 100, 2], [100, 100, 5], [100, 100, 100]]\n",
            "#1 8\n"
          ]
        }
      ]
    },
    {
      "cell_type": "markdown",
      "source": [
        "#0728 강의내용"
      ],
      "metadata": {
        "id": "VRrdAMKuNre3"
      }
    },
    {
      "cell_type": "code",
      "source": [
        "#클래스 정의를 위해 class Class_Name\n",
        "class Pokemon: #클래스 첫글자 대문자 그냥 약속\n",
        "    #푸키먼들이 공통적으로 가지는 속성들\n",
        "    #크래스 편수\n",
        "    info = '푸키먼...'\n",
        "    population = 0\n",
        "    #새 포켓몬이 태ㄹ어났으 때\n",
        "    #생성사\n",
        "    #인스턴스 메서드\n",
        "    def __init__(self,name,lv=1):\n",
        "        self.name = name\n",
        "        self.lv = lv\n",
        "        self.skill = '몸통박치기'\n",
        "        self.info = name[:2]*2\n",
        "        Pokemon.population += 1\n",
        "\n",
        "#alt shift 방향키 복사\n",
        "#alt shift 위치 옮기기\n",
        "    def attack(self):\n",
        "        return self.skill\n",
        "pika = Pokemon('피카츄')\n",
        "meta = Pokemon('메타몽',lv = 5)\n",
        "print(pika.name, pika.lv,pika.attack())\n",
        "print(meta.name, meta.lv,meta.attack())\n",
        "print(pika.info,meta.info)"
      ],
      "metadata": {
        "colab": {
          "base_uri": "https://localhost:8080/"
        },
        "id": "dXgO2WuSCn_C",
        "outputId": "6d3c4941-3550-45d0-a151-b4f910bb1f9c"
      },
      "execution_count": null,
      "outputs": [
        {
          "output_type": "stream",
          "name": "stdout",
          "text": [
            "피카츄 1 몸통박치기\n",
            "메타몽 5 몸통박치기\n",
            "피카피카 메타메타\n"
          ]
        }
      ]
    },
    {
      "cell_type": "code",
      "source": [
        "from datetime import datetime, date\n",
        "def dayprint(date):\n",
        "    days = ['월', '화', '수', '목', '금', '토', '일']\n",
        "    day = date.weekday()\n",
        "    return '('+days[day]+')'\n",
        "dayprint(date(2022,1,1))"
      ],
      "metadata": {
        "id": "vqpXPtR5hG7E"
      },
      "execution_count": null,
      "outputs": []
    },
    {
      "cell_type": "code",
      "source": [
        ""
      ],
      "metadata": {
        "id": "bijhhhMdopyf"
      },
      "execution_count": null,
      "outputs": []
    },
    {
      "cell_type": "code",
      "source": [
        "temp = []\n",
        "while 1:\n",
        "    l = a[:len(a)//2:]\n",
        "    r = a[len(a)//2+1:]\n",
        "    temp.extend([l,r])\n",
        "    if len(l) == 1 and len(r) == 1:\n",
        "        break\n"
      ],
      "metadata": {
        "id": "LOxOfrTeosB_"
      },
      "execution_count": null,
      "outputs": []
    },
    {
      "cell_type": "code",
      "source": [
        "def list_split(a):\n",
        "    if len(a) <= 2:\n",
        "        return a\n",
        "    else:\n",
        "        return [list_split(a[:len(a)//2+1]) , list_split(a[len(a)//2+1:])]"
      ],
      "metadata": {
        "id": "EB9TDpdephrX"
      },
      "execution_count": null,
      "outputs": []
    },
    {
      "cell_type": "code",
      "source": [
        "a = [1,3,3,3,1,3,3]\n",
        "tor = list_split(a)"
      ],
      "metadata": {
        "id": "ayrpGbyJqGig"
      },
      "execution_count": null,
      "outputs": []
    },
    {
      "cell_type": "code",
      "source": [
        "temp = tor\n",
        "while 1:\n",
        "    temp = temp[0]\n",
        "    if type(temp[0]) == int:\n",
        "        break\n",
        "    else:\n",
        "        temp = temp[0]"
      ],
      "metadata": {
        "id": "K8_jHjbhqMCj"
      },
      "execution_count": null,
      "outputs": []
    },
    {
      "cell_type": "code",
      "source": [
        "left = []\n",
        "right = []\n",
        "a = 7\n",
        "while a > 2:\n",
        "    left.append([0,a//2 +1])\n",
        "    #right.append(a//2+1,a)\n",
        "    a = a//2 +1"
      ],
      "metadata": {
        "id": "wYPOyfoGrey6"
      },
      "execution_count": null,
      "outputs": []
    },
    {
      "cell_type": "code",
      "source": [
        "left"
      ],
      "metadata": {
        "colab": {
          "base_uri": "https://localhost:8080/"
        },
        "id": "aikEgMaxvyfv",
        "outputId": "c1a47db1-1005-472d-c3fb-772430432a86"
      },
      "execution_count": null,
      "outputs": [
        {
          "output_type": "execute_result",
          "data": {
            "text/plain": [
              "[[0, 4], [0, 3], [0, 2]]"
            ]
          },
          "metadata": {},
          "execution_count": 129
        }
      ]
    },
    {
      "cell_type": "code",
      "source": [
        "class Person:\n",
        "    def __init__(self,name,age):\n",
        "        self.name = name\n",
        "        self.age = age\n",
        "    @classmethod\n",
        "    def details(cls,name,year):\n",
        "        return Person(name,year)\n",
        "    def check_age(self):\n",
        "        if self.age < 19:\n",
        "            return True\n",
        "        elif self.age > 1000: #year로 받은경우\n",
        "            if 2022 - self.age < 19:\n",
        "                return True\n",
        "            else:\n",
        "                return False\n",
        "        else:\n",
        "            return False"
      ],
      "metadata": {
        "id": "w50IsSfsv2pr"
      },
      "execution_count": null,
      "outputs": []
    },
    {
      "cell_type": "code",
      "source": [
        "def hanoi(N, start, to, via):\n",
        "    if N == 1:\n",
        "        print(\"{}번 기둥의 {}번 원반을 {}번 기둥에 옮깁니다.\".format(N, start, to))\n",
        "    else:\n",
        "        hanoi(N-1, start, via, to)\n",
        "        print(\"{}번 기둥의 {}번 원반을 {}번 기둥에 옮깁니다.\".format(N, start, to))\n",
        "        hanoi(N-1, via, to, start)\n",
        "        hanoi(3, 'A', 'C', 'B')\n",
        "#원반 n개 출발기둥1, 도착기둥 3"
      ],
      "metadata": {
        "id": "h51dHjisx93h"
      },
      "execution_count": null,
      "outputs": []
    },
    {
      "cell_type": "code",
      "source": [
        "b = Person.details(\"go\",1123)"
      ],
      "metadata": {
        "id": "5SG4DBU6yS9H"
      },
      "execution_count": null,
      "outputs": []
    },
    {
      "cell_type": "code",
      "source": [
        "rod,plate = hanoi(n)\n",
        "min   = 2\n",
        "min-1 = 3\n",
        "min   = 3\n",
        "min-2 = 2\n",
        "min   = 1\n",
        "min-1 = 2\n",
        "min   = 2\n",
        "max   = 3\n",
        "min   = 3\n",
        "min-1 = 1\n",
        "min   = 1\n",
        "min-2 = 3\n",
        "min   = 2\n",
        "min-1 = 3\n",
        "min   = 3"
      ],
      "metadata": {
        "id": "G1V5rECG5Z0Q"
      },
      "execution_count": null,
      "outputs": []
    },
    {
      "cell_type": "code",
      "source": [
        "1. 갈수 있는 최대한 가까운 곳 이동, 못가면 pass\n",
        "2. 앞으로 못가니 처음으로 이동\n",
        "3. 초록도 건너뜀\n",
        "# 결론 무조건 앞으로 하나 전진 못가면 pass 또는 2칸 3칸씩 건너뛰기도 가능\n",
        "# 블록들은 작은것부터 순서대로 한번씩 이동 찬스가 있다.\n",
        "# 짝수이면 1- 3\n",
        "# 홀수이면 3-1"
      ],
      "metadata": {
        "id": "XUCx2Hgj58h8"
      },
      "execution_count": null,
      "outputs": []
    },
    {
      "cell_type": "markdown",
      "source": [
        "번호 from  to\n",
        "- 1     1     2 \n",
        "- 2     1     3\n",
        "- 1     2     3\n",
        "- 3     1     2\n",
        "- 1     3     1\n",
        "- 2     3     2\n",
        "- 1     1     2\n",
        "- 4     1     3\n",
        "- 1     2     3\n",
        "- 2     2     1\n",
        "- 1     3     1\n",
        "- 3     2     3\n",
        "- 1     1     2\n",
        "- 2     1     3\n",
        "- 1     2     3"
      ],
      "metadata": {
        "id": "biRgo4Gg8L4U"
      }
    },
    {
      "cell_type": "code",
      "source": [
        "def hanoi(n):\n",
        "    odd_step = {1:[3,2],2:[1,3],3:[2,1]}\n",
        "    even_step = {1:[2,3],2:[3,1],3:[1,2]}\n",
        "    if n%2 == 0:\n",
        "        step = even_step\n",
        "    else:\n",
        "        step = odd_step\n",
        "    plate = list(range(1,n+1)) #1~n 1이 가장 작은 판\n",
        "    rod = [0,plate,[0],[0]] #빈 하노이 기둥 게임 판 초기화\n",
        "    while rod[3] != list(range(1,n+1)): #다 이동하면 끝\n",
        "        for i in range(1,n+1):\n",
        "            try:\n",
        "                rod.append(step[])\n",
        "\n",
        "    return rod,plate"
      ],
      "metadata": {
        "id": "h8Vc3y2VBM9h"
      },
      "execution_count": null,
      "outputs": []
    },
    {
      "cell_type": "code",
      "source": [
        "class Hanoi:\n",
        "    odd_step = {1:[3,2],2:[1,3],3:[2,1]}\n",
        "    even_step = {1:[2,3],2:[3,1],3:[1,2]}\n",
        "    def __init__(self,n):\n",
        "        self.n = n\n",
        "        self.game = [0,[n+1]+list(range(n,0,-1)),[n+1],[n+1]] #1~n 중 1이 가장 작은 판\n",
        "        self.order = {i:i+1 for i in range(1,n)}# 판 이동 권한 순위\n",
        "        self.order[n] = 1\n",
        "        self.now = 1 #현재 움직여야할 판\n",
        "        self.step = Hanoi.even_step if n%2 == 0 else Hanoi.odd_step # 스텝 방향 설정\n",
        "        #비교를 편하게 하기 위해 바닥을 n+1 이라 가정\n",
        "        self.count = 0 #몇번 움직여서 게임이 끝나는가?\n",
        "    def move(self):\n",
        "        if len(self.game[3]) == self.n+1:\n",
        "            temp = [ self.game[i][1:] for i in range(1,4)]\n",
        "            print(temp)\n",
        "            print(f'게임 끝, {self.count}회 만에 클리어했습니다')\n",
        "            return 0\n",
        "        for k in range(1,4): # 1~3번 기둥 (A,B,C)\n",
        "            if self.now == self.game[k][-1]:#현재 움직일 판이 k번 기둥 가장위에 존재하면\n",
        "                for j in self.step[k]: #현위치에서 갈 수 있는 곳중에서\n",
        "                    if self.now < self.game[j][-1]: #이동 가능한 곳이면\n",
        "                        self.game[j].append(self.game[k].pop())#원위치서 뽑아서 다음위치로\n",
        "                        self.count += 1 #움직이면 횟수 추가\n",
        "                        print(f'{chr(64+k)}번 기둥의 {self.now}번 원반을 {chr(64+j)}번 기둥에 옮긴다.')\n",
        "                        self.now = self.order[self.now]#다음 판 순서\n",
        "                        return 1\n",
        "                    else:\n",
        "                        continue # 못 옮기면 pass\n",
        "                self.now = self.order[self.now]#다음 판 순서\n",
        "                return 1 #찾고 step을 밟았으면 끝.\n",
        "        else: #중간에 껴서 못찾으면\n",
        "            self.now = self.order[self.now]#다음 판 순서\n",
        "            return 1\n",
        "def hanoi(n):\n",
        "    a = Hanoi(n)\n",
        "    while a.move():\n",
        "        pass\n",
        "hanoi(4)"
      ],
      "metadata": {
        "id": "MDo71GH2HBx_"
      },
      "execution_count": null,
      "outputs": []
    },
    {
      "cell_type": "markdown",
      "source": [
        "## 1. Linear Queue\n",
        "문제점: 잘못된 포화 상태 인식!\n",
        "(리스트 크기를 고정 → 사용할 큐의 크기만큼 미리 확보\n",
        "→ **메모리 낭비 발생**)\n",
        "1. 삽입, 삭제를 계속할 경우 리스트의 앞 부분에 활용할 수 있는\n",
        "공간이 있음에도, rear = n-1인 상태, 즉 포화 상태로 인식\n",
        "(즉, 고정 크기 list 끝에 도달 했을 때)\n",
        "2. 더 이상의 삽입을 수행할 수 없음.\n",
        "\n",
        "장점: 삽입,삭제의 처리속도가 빠름. (실제 삭제는 아님,개인적 의견)\n",
        "\n",
        "> 단점의 해결방법\n",
        "1. 원형 큐 사용으로 메모리 절약\n",
        "2. 파이썬의 리스트 특성을 사용한 큐 사용으로 메모리 절약\n",
        "- 단점: 삽입, 삭제 시 복사 데이터 이동시키는 연산 수행에 많은 시간 소모\n",
        "3. 단순연결 리스트로 구현한 큐 사용으로 메로리 동적 확보\n",
        "4. 큐 라이브러리 사용"
      ],
      "metadata": {
        "id": "zruq6LvKtMVZ"
      }
    },
    {
      "cell_type": "code",
      "source": [
        "#rear는 항상 마지막 item\n",
        "#front는 항상 첫 item 앞\n",
        "#queue의 아이템 갯수 = rear - front\n",
        "def makeLQ(n):\n",
        "    return [0]*n, -1, -1 #list, front, rear\n",
        "\n",
        "def enQueue(item):\n",
        "    global rear\n",
        "    if isFull(): print(\"Queue_Full\") #큐가 꽉찬상태면\n",
        "    else:\n",
        "        rear += 1\n",
        "        Q[rear] = item\n",
        "\n",
        "def deQueue(item):\n",
        "    global front\n",
        "    if isEmpty(): print(\"Queue_Empty\")\n",
        "    else:\n",
        "        front += 1 #아이템을 제거하고 하나 더하는게 맞지않나 ?\n",
        "        return Q[front]\n",
        "\n",
        "def isEmpty(): \n",
        "    return front == rear\n",
        "\n",
        "def isFull():\n",
        "    return rear == len(Q)-1\n",
        "\n",
        "def Qpeek(): #peek 은 deQueue와 다르게 front값 안변함.\n",
        "    if isEmpty():print(\"Queue_Empty\")\n",
        "    else: return Q[front+1]"
      ],
      "metadata": {
        "id": "LxCCN1LBp1J6"
      },
      "execution_count": null,
      "outputs": []
    },
    {
      "cell_type": "markdown",
      "source": [
        "## 2. Circular Queue\n",
        "1. 1차원 리스트를 사용하되, 논리적으로 리스트의 처음과 끝이 연결되어\n",
        "원형 형태의 큐를 이룬다고 가정하고 사용함\n",
        "2. 2원형 큐의 논리적 구조"
      ],
      "metadata": {
        "id": "fwCk82kzu5W5"
      }
    },
    {
      "cell_type": "code",
      "source": [
        "def makeCQ(n):#예도 크기가 고정된 list라서 n 이랑 len(Q) 중 선택해서 써도 됨\n",
        "    return [0]*n, 0, 0 #list, front, rear\n",
        "\n",
        "def enQueue(item):\n",
        "    global rear\n",
        "    if isFull(): print(\"Queue_Full\") #큐가 꽉찬상태면\n",
        "    else:\n",
        "        rear = (rear+1)%n\n",
        "        Q[rear] = item\n",
        "\n",
        "def deQueue(item):\n",
        "    global front\n",
        "    if isEmpty(): print(\"Queue_Empty\")\n",
        "    else:\n",
        "        front = 0 #선형큐와 다르게 공간이 순환되기때문에 값 초기화 해줘야함.\n",
        "        front = (front + 1)%n \n",
        "        return Q[front]\n",
        "\n",
        "def delete():\n",
        "    global front:\n",
        "    if isEmpty(): print(\"Queue_Empty\")\n",
        "    else:\n",
        "        front = 0 #선형큐와 다르게 공간이 순환되기때문에 값 초기화 해줘야함.\n",
        "        front = (front+1)%n #한 칸 전진만, 값 반환 \n",
        "def isEmpty(): \n",
        "    return front == rear\n",
        "\n",
        "def isFull():\n",
        "    return (rear+1)%n == front # (front-1)%n == rear로 하면 나머지 연산이 맛이 감(1만 나옴)\n",
        "\n",
        "def Qpeek(): #peek 은 deQueue와 다르게 front값 안변함.\n",
        "    if isEmpty():print(\"Queue_Empty\")\n",
        "    else: \n",
        "        return Q[front+1]"
      ],
      "metadata": {
        "id": "jAJogVPsqDR3"
      },
      "execution_count": null,
      "outputs": []
    },
    {
      "cell_type": "markdown",
      "source": [
        "## 3. 파이썬의 리스트 특성을 이용한 큐\n",
        "1. 리스트는 크기를 동적으로 변경할 수 있음\n",
        "2. 메모리 절약\n",
        "3. 삽입, 삭제 시 복사, 데이터를 이동시키는 연산을 수행하는데\n",
        "많은 시간 소모"
      ],
      "metadata": {
        "id": "jvooLMN_2mfd"
      }
    },
    {
      "cell_type": "code",
      "source": [
        "def makeQ():#파이썬 list의 특징을 활용, 크기 지정할 필요 없음.\n",
        "    return [] #list, front = -1, rear = len(Q)-1 ,값 따로 조정할 필요 없음\n",
        "\n",
        "def enQueue(item):\n",
        "    queue.append(item)\n",
        "\n",
        "def deQueue(item):\n",
        "    if isEmpty(): print(\"Queue_Empty\")\n",
        "    else:\n",
        "        return queue.pop(0)\n",
        "\n",
        "def delete():\n",
        "    if isEmpty(): print(\"Queue_Empty\")\n",
        "    else:\n",
        "        del queue[0] #해당 인덱스 삭제, pop을 써도 됨\n",
        "\n",
        "def isEmpty(): \n",
        "    return len(queue) == 0\n",
        "\n",
        "#def isFull(): #가득 찰 일이 없음\n",
        "#    pass\n",
        "\n",
        "def Qpeek(): #peek 은 deQueue와 다르게 front값 안변함.\n",
        "    if isEmpty():print(\"Queue_Empty\")\n",
        "    else: \n",
        "        return queue[0]"
      ],
      "metadata": {
        "id": "bzEL7X0Qza0l"
      },
      "execution_count": null,
      "outputs": []
    },
    {
      "cell_type": "markdown",
      "source": [
        "## 4. linked queue\n",
        "1. 단순 연결 리스트(Linked List)를 이용한 큐\n",
        "2. 상태 표현"
      ],
      "metadata": {
        "id": "fGmVv7nb4nFU"
      }
    },
    {
      "cell_type": "code",
      "source": [
        "#id(인자) 함수를 통해 주소 확인가능하나 변경가능한 객체는 변경시 그 주소도 함께 변경된다.\n",
        "#linked list라서 id를 통해 값을 저장,호출하려했으나 그런건 C에서나 가능\n",
        "#파이썬은 call by assignment라서 reference로 직접 호출이 불가능함.(모든것을 객체로 본다.)\n",
        "#if a = 5 라고 하면 a의 주소에 5라는 값을 넣는게 아니라, 5라는 instance의 주소를 a가 가르킨다.\n",
        "#연산으로 값이 변해도 메모리 저장된 값 자체가 변하는게 아니라 \n",
        "#파이썬 object들이 가르키고 있는 reference count(자신이 가리키는 값) 가 변함.\n",
        "def createLinkedQueue():\n",
        "    return None,None #front, rear\n",
        "\n",
        "class Node:\n",
        "    def __init__(self,item,n=None):\n",
        "        self.item = item # 자기 값 저장\n",
        "        self.next = n #가리키는 값 저장\n",
        "\n",
        "def enQueue(item):\n",
        "    global front,rear\n",
        "    newNode = Node(item) #새로운 노드 생성\n",
        "    if front == None: #공백이면(큐가 비어있으면)\n",
        "        front = newNode #front부터 값 채우기\n",
        "    else:#비어있지 않은데 값이 추가되면 rear.next가 newNode가 됨\n",
        "        rear.next = newNode\n",
        "    rear = newNode #공백이든 아니는 rear는 새 값 따라감\n",
        "\n",
        "def isEmpty():\n",
        "    return front == None\n",
        "\n",
        "def deQueue():\n",
        "    global front,rear\n",
        "    if isEmpty():#공백이면 None 줌.\n",
        "        print(\"Queue_Empty\")\n",
        "        return None\n",
        "    item = front.item #임시로 값 가져오고\n",
        "    front = front.next #프론트를 다음객체로 변경\n",
        "    if front == None: #뽑고나서 공백이면\n",
        "        rear = None #rear도 공백이된다.\n",
        "    return item #뽑은 값은 주고 ㅎㅎ\n",
        "\n",
        "def Qpeek():\n",
        "    return front.item #첫 값 보여주기만\n",
        "\n",
        "def printQ():\n",
        "    f = front\n",
        "    s = f\"{f.item} \"\n",
        "    while f.next: #무언가 실행하는게 아니라 값을 보기만 할 뿐이라 반복문 ok\n",
        "        f = f.next\n",
        "        s += f'{f.item}'+ \" \"\n",
        "    return s\n",
        "\n",
        "front = None\n",
        "rear = None\n",
        "enQueue('A')\n",
        "enQueue('B')\n",
        "enQueue('C')\n",
        "print(printQ())\n",
        "print(deQueue())\n",
        "print(deQueue())\n",
        "print(deQueue())"
      ],
      "metadata": {
        "colab": {
          "base_uri": "https://localhost:8080/"
        },
        "id": "LK1dB9DY4ARc",
        "outputId": "7b84d256-d7ff-4f62-aeaf-d9f698481778"
      },
      "execution_count": null,
      "outputs": [
        {
          "output_type": "stream",
          "name": "stdout",
          "text": [
            "A B C \n",
            "A\n",
            "B\n",
            "C\n"
          ]
        }
      ]
    },
    {
      "cell_type": "markdown",
      "source": [
        "## 5. Queue module\n",
        "1. `queue.Queue(maxsize)`\n",
        "- :선입선출(FIFO)큐 객체를 생성\n",
        "2. `queue.LifoQueue(maxsize)`\n",
        "- :스택 개념의 후입선출 큐 객체 생성\n",
        "3. `queue.PriorityQueue(maxsize)`\n",
        "- :우선순위 큐 객체를 생성, 입력되는 아이템의 형식은\n",
        "(순위, 아이템)의 튜플로 입력되며, 우선순위는 숫자가 작을수록\n",
        "높은 순위를 가짐\n",
        "\n",
        "**maxsize**는 최대 아이템수, 지정하지 않거나 음수이면\n",
        "내용만큼 늘어남.\n",
        "\n",
        "<클래스 공통 메소드>\n",
        "1. `quesize()` : 큐 객체에 입력된 아이템의 개수를 반환\n",
        "2. `put(item[,block[,timeout]])`: 큐 객체에 아이템을 입력\n",
        "3. `get([block[,timeout]])` : 생성된 큐 객체 특성에 맞추어, 아이템 1개를 반환\n",
        "4. `empty()` : 큐 객체가 비어있으면 True return\n",
        "5. `full()` : 큐 객체가 꽉 차있으면 True return\n",
        "- - 클래스 정렬 방식에 따라 get 계열의 method 결과가 달라짐\n"
      ],
      "metadata": {
        "id": "dy_cT5DnBrjR"
      }
    },
    {
      "cell_type": "code",
      "source": [
        "import queue\n",
        "q = queue.Queue()\n",
        "q.put(1)\n",
        "q.put(2)\n",
        "q.put(3)\n",
        "while not q.empty():\n",
        "    print(q.get()) #get하면 값을 삭제하면서 하나 가져옴, 텅빈상태에서 작동시 렉걸림"
      ],
      "metadata": {
        "colab": {
          "base_uri": "https://localhost:8080/"
        },
        "id": "Tszs0LVx5ixG",
        "outputId": "57c3de10-2945-46e5-a93c-c1adf468b1d1"
      },
      "execution_count": null,
      "outputs": [
        {
          "output_type": "stream",
          "name": "stdout",
          "text": [
            "1\n",
            "2\n",
            "3\n"
          ]
        }
      ]
    },
    {
      "cell_type": "markdown",
      "source": [
        "## 6. 우선순위 큐(Priority Queue)\n",
        "1. 우선 순위를 가진 항목들을 저장하는 큐\n",
        "2. FIFO 순서가 아니라 우선순위가 높은 순서대로 먼저 나가게됨.\n",
        "(heapq라는 힙구조를 응용한 우선순위큐가 있음)\n",
        "3. 적용분야 (시뮬레이션 시스템, 네트워크 트래픽 제어, 운영체제의 태스크 스케줄링)\n",
        "\n",
        "- 구현 방법\n",
        "- - 리스트를 이용한 우선순위 큐\n",
        "- - 우선순위 큐 라이브러리를 사용\n",
        "\n",
        "- 연산\n",
        "- - 삽입: enQueue, 삭제: deQueue\n",
        "\n",
        "### <리스트를 이용한 우선순위 큐의 구현>\n",
        "1. 리스트를 이용하여 자료 저장\n",
        "2. 원소를 삽입하는 과정에서 우선순위를 비교하여 적절한 위치에 삽입하는 구조\n",
        "3. 가장 앞에 최고 우선순위의 원소가 위치하게됨\n",
        "4. 문제점\n",
        "- 리스트를 사용하므로, 삽입이나 삭제 연산이 일어날 떄 원소의 재배치가 발생\n",
        "- 소요되는 시간이 많이 걸림\n",
        "5. 해결방법\n",
        "- PriorityQueue(maxsize) 클래스 사용 `from queue import PriorityQueue`\n",
        "- 힙 자료구조 사용\n",
        "\n",
        "#### 버퍼\n",
        "<정의>\n",
        "> - 데이터를 한 곳에서 다른 한 곳으로 전송하는 동안 일시적으로 그 데이터를 보관하는 메모리의 영역\n",
        "> - 버퍼링: 버퍼를 활용하는 방식 또는 버퍼를 채우는 동작을 의미\n",
        "\n",
        "<버퍼의 자료구조>\n",
        "> - 일반적으로 입출력 및 네트워크와 관련된 기능에서 이용\n",
        "> - 순서대로 입력/출력/전달되어야 하므로  FIFO 방식의 자료구조인\n",
        "**큐**가 활용됨"
      ],
      "metadata": {
        "id": "D87ZbZDQEsho"
      }
    },
    {
      "cell_type": "markdown",
      "source": [
        "## 7. BFS(넓이 우선 탐색)\n",
        "<그래프 탐색 방법 비교>\n",
        "**DFS**\n",
        "> - stack 활용\n",
        "> - \n",
        "\n",
        "**BFS**\n",
        "> - 큐활용\n",
        "> - 시작점의 인접한 정점들을 모두 차례로 방문한 후 방문했던정점을\n",
        "시작점으로 하여 다시 인접한 점점들을 차례로 방문하는 방식\n",
        "> - 인접한 정점들을 탐색한 후, 차례로 너비 우선 탐색을 진행해야 하므로,\n",
        "선입선출 형태의 자료구조인 큐 활용"
      ],
      "metadata": {
        "id": "Zq4a1yo1Gzph"
      }
    },
    {
      "cell_type": "code",
      "source": [
        "def BFS(G,v):#sudo code\n",
        "    visited = []*n #n은 점의 수 , 점을추가할수도 있고 Boolean 방식으로 할 수도 있다.(정점이 index로 참조 가능하면)\n",
        "    queue = [] # 큐 생성\n",
        "    queue.append(v)\n",
        "    while queue:\n",
        "        t = queue.pop(0) # dequeue\n",
        "        if not visted[t]:\n",
        "            visit(t)\n",
        "        for i in G[t]:#t와 연결된 곳중 안가본곳 추가\n",
        "            if not visited[i]:\n",
        "                queue.append(i)\n",
        "#초기: visited 리스트 초기화\n",
        "#Q생성\n",
        "#시작점 enQueue"
      ],
      "metadata": {
        "id": "V5FjHEkG5rSM"
      },
      "execution_count": null,
      "outputs": []
    },
    {
      "cell_type": "code",
      "source": [
        "#숫자리스트(크기 n)에서 앞 숫자 뒤로 n번 보내버리기\n",
        "#맨앞숫자 출력\n",
        "T = int(input())\n",
        "for t in range(1,T+1):\n",
        "    n,m = map(int,input().split())\n",
        "    nums = input().split()#.split() # 전부 int하면 비용 낭비됨\n",
        "    print(f'#{t}',nums[m%n]) #순환 큐 느낌적인 느낌"
      ],
      "metadata": {
        "id": "KaVZbBFXJhne"
      },
      "execution_count": null,
      "outputs": []
    },
    {
      "cell_type": "code",
      "source": [
        "#미로에서 최단경로 구하기\n",
        "#없으면 0\n",
        "import queue\n",
        "#bfs로 brute force해보기\n",
        "def path_check(pos):\n",
        "    global mat\n",
        "    global n\n",
        "    dy = [-1,1,0,0]#상하좌우\n",
        "    dx = [0,0,-1,1]\n",
        "    temp = []\n",
        "    for i in range(4):\n",
        "        ypos, xpos = pos[0]+dy[i], pos[1]+dx[i]\n",
        "        try: \n",
        "            if (ypos < 0 or xpos < 0): #범위 밖이면\n",
        "                continue\n",
        "            elif mat[ypos][xpos] != 1: #벽이 아니면           \n",
        "                temp.append([ypos, xpos, pos[2]+1]) #갈 수 있는 노드 추가\n",
        "        except:\n",
        "            pass\n",
        "    return temp #새로운 길로 step 갈때 마다 거리 pos[2] + 1씩\n",
        "T = int(input())\n",
        "for t in range(1,T+1):\n",
        "    n = int(input())\n",
        "    mat = [list(map(int,input())) for i in range(n)]\n",
        "#시작, 도착점 찾기.\n",
        "    start,goal = 1,1\n",
        "    for i in range(n):\n",
        "        for k in range(n):\n",
        "            if mat[i][k] == 3:\n",
        "                start = [i,k,-1]\n",
        "            elif mat[i][k] == 2:\n",
        "                goal = [i,k]\n",
        "        if not(start and goal): #찾았으면 조기종료\n",
        "            break\n",
        "    q = queue.Queue()\n",
        "    q.put(start)\n",
        "    hist = []\n",
        "    a = 0\n",
        "    while not(q.empty()): #텅비지 않는 동안 계속\n",
        "        v = q.get()\n",
        "        hist.extend([v[:2],v[-1]])\n",
        "        if v[:2] == goal:\n",
        "            a = v[-1]\n",
        "            break #골 찾으면 끝내기. 안그러면 맵 전체를 봐서 시간이 오래걸림.\n",
        "        for i in path_check(v):\n",
        "            if i[:2] not in hist:# 없다면 추가, 어차피 경로가 여러개여도 \n",
        "                q.put(i) #거리가 짧은게 먼저 hist로 들어감.\n",
        "    if a:\n",
        "        #a = hist.index(goal)\n",
        "        #print(f'#{t} {min(p_to_goal,key = lambda x: x[-1])[-1]}')\n",
        "        print(f'#{t} {a}')\n",
        "    else:\n",
        "        print(f'#{t} 0')"
      ],
      "metadata": {
        "id": "Xw12D7w7KMSV"
      },
      "execution_count": null,
      "outputs": []
    },
    {
      "cell_type": "code",
      "source": [
        "#N개의 피자 동시굽는 원형 큐?\n",
        "#치즈 모두 녹으면 꺼내고, 양은 다 다름\n",
        "#1~M 까지 순서대로 enqueue, 우선 순위큐임.\n",
        "#마지막까지 남은 피자는?\n",
        "#1번에서만 넣거나 뺄 수 있다.\n",
        "#한바퀴 돌면 치즈는 c//2가 됨. 0이 되면 꺼내고 \n",
        "#꺼낸 자리에  남은피자를 순서대로 채움. = queue 형식 (m개중 남아있는것)\n",
        "def lsum(x):\n",
        "    ans = 0\n",
        "    for i in x:\n",
        "        ans += i[0]\n",
        "    return ans\n",
        "\n",
        "T = int(input())\n",
        "for t in range(1,T+1):\n",
        "    n,m = map(int,input().split())\n",
        "    Ci = list(map(int,input().split()))\n",
        "    Ci = [[Ci[i-1],i] for i in range(1,m+1)] # [치즈양,피자번호]\n",
        "    temp1 = Ci[:n] #피자 화덕에 올린 피자\n",
        "    temp2 = Ci[n:] #대기중인 피자\n",
        "    temp2.reverse() #pop 순서대로 삽입 용\n",
        "    keep = True\n",
        "    while keep:\n",
        "        for i in range(n): #피자 돌리기 무한 반복 last 1까지.\n",
        "            temp1[i][0] //= 2\n",
        "            if temp1[i][0] == 0 and temp2: #피자판 비고 , 남은피자가 있다면\n",
        "                temp1[i] = temp2.pop()\n",
        "            elif lsum(temp1) == temp1[i][0]: #자기가 라스트 피자면.\n",
        "                keep = False\n",
        "                idx = temp1[i][1]\n",
        "                break\n",
        "    print(f'#{t} {idx}')"
      ],
      "metadata": {
        "id": "3b2fkCHP11oU"
      },
      "execution_count": null,
      "outputs": []
    },
    {
      "cell_type": "code",
      "source": [
        "#무방향 그래프에서 최단경로\n",
        "import queue\n",
        "T = int(input())\n",
        "for t in range(1,T+1):\n",
        "    v,e = map(int,input().split())#정점과 간선 수\n",
        "    graph = {i:[] for i in range(1,v+1)}\n",
        "    for i in range(e): #그래프 생성\n",
        "        a,b = map(int,input().split())\n",
        "        graph[a].append(b)\n",
        "        graph[b].append(a)\n",
        "    start,goal = map(int,input().split()) #출발,목표 노드\n",
        "    q = queue.Queue()\n",
        "    q.put([start,0])\n",
        "    hist = []\n",
        "    ans = 0\n",
        "    while not(q.empty()):\n",
        "        now = q.get()\n",
        "        if now[0] == goal:\n",
        "            ans = now[1]\n",
        "            break\n",
        "        hist.append(now[0]) # 1.조건 잘 확인 여기를 그냥 now 주고 \n",
        "        pred = graph[now[0]]\n",
        "        pred = [[i,now[1]+1] for i in pred]\n",
        "        for i in pred:\n",
        "            if i[0] not in hist: # 2. 1이어서 여기서 쓸데없이 많이 추가하게됨. \n",
        "                q.put(i)\n",
        "    print(f'#{t} {ans}')"
      ],
      "metadata": {
        "colab": {
          "base_uri": "https://localhost:8080/"
        },
        "id": "s65EHcuqErGX",
        "outputId": "5e2e764b-d2e0-475e-8a8b-512585ce2568"
      },
      "execution_count": 111,
      "outputs": [
        {
          "output_type": "stream",
          "name": "stdout",
          "text": [
            "1\n",
            "7 4\n",
            "1 6\n",
            "2 3\n",
            "2 6\n",
            "3 5\n",
            "1 5\n",
            "#1 6\n"
          ]
        }
      ]
    },
    {
      "cell_type": "code",
      "source": [
        "#무방향 그래프에서 최단경로 - 다른 풀이(인접행렬 사용)\n",
        "def mat_mul(x,y):\n",
        "    le = len(x)\n",
        "    temp1 = [[0 for i in range(le)] for k in range(le)]\n",
        "    temp2 = list(zip(*y))\n",
        "    for i in range(le):\n",
        "        for k in range(le):\n",
        "            temp1[i][k] = list_mul(x[i],temp2[k])\n",
        "    return temp1\n",
        "\n",
        "def list_mul(x,y):\n",
        "    ans = 0\n",
        "    le = len(x)\n",
        "    for i in range(le):\n",
        "        if not(any(x)) or not(any(y)):\n",
        "            return 0\n",
        "        ans += x[i]*y[i]\n",
        "    return ans\n",
        "\n",
        "T = int(input())\n",
        "for t in range(1,T+1):\n",
        "    v,e = map(int,input().split())#정점과 간선 수\n",
        "    mat = [[0 for i in range(v+1)] for i in range(v+1)] #인접행렬생성\n",
        "    for i in range(e): #그래프 생성\n",
        "        a,b = map(int,input().split())\n",
        "        mat[a][b] = 1\n",
        "        mat[b][a] = 1\n",
        "    start,goal = map(int,input().split()) #출발,목표 노드\n",
        "    noway =False\n",
        "    if mat[start][goal] == 1:\n",
        "        count = 1\n",
        "    else:\n",
        "        count = 2\n",
        "        temp = mat_mul(mat,mat)\n",
        "        while 1: #최대 길이가 점의 갯수임. (순환x)\n",
        "            if temp[start][goal] > 0 :\n",
        "                break\n",
        "            elif count > v :\n",
        "                noway = True\n",
        "                break\n",
        "            else:\n",
        "                temp = mat_mul(temp,mat) #점점 곱해나간다\n",
        "                count += 1\n",
        "    if noway:\n",
        "        print(f'#{t} 0')\n",
        "    else:    \n",
        "        print(f'#{t} {count}')"
      ],
      "metadata": {
        "id": "pPG2vOfKfl0A"
      },
      "execution_count": null,
      "outputs": []
    },
    {
      "cell_type": "code",
      "source": [
        ""
      ],
      "metadata": {
        "id": "i939ryNkf-Ye"
      },
      "execution_count": null,
      "outputs": []
    },
    {
      "cell_type": "markdown",
      "source": [
        "# Linked List"
      ],
      "metadata": {
        "id": "Uf5EkQYXpX3N"
      }
    },
    {
      "cell_type": "markdown",
      "source": [
        "## 1.List\n",
        "1. 순서를 가진 데이터의 묶음 - 같은 데이터 중복 저장 가능\n",
        "2. 시퀀스 자료형 - 인덱싱, 슬라이싱, 연산자, 메서드 사용 가능\n",
        "3. 크기제한 없음, 타입제한 없음\n",
        "> 배열은 크기 변결 불가, 선언된 한가지 타입만 저장 가능하다.\n",
        "\n",
        "다른 언어에서 배열로 구현한 순차리스트가\n",
        "파이썬의 리스트와 같음.\n",
        "\n",
        "#### 순차 리스트: 배열을 기반으로 구현된 리스트\n",
        "- 생성: 변수에 값을 초기화하는 것으로 생성\n",
        "- 접근: 인덱스를 이용해 원하는 위치 데이터 접근\n",
        "- 파이썬 리스트 : 동적 배열로 작성된 순차 리스트\n",
        "- 삽입, 삭제 연산: 원소의 이동 작업이 필요,\n",
        " 원소의 개수가 많고 삽입/삭제가 많을 수록\n",
        " 소요시간이 크게 증가\n",
        "- 리스트 복사 (1번~4번 빠른순서 나열)\n",
        "- 1. new = old : 주소 복사(얕은), 빠름\n",
        "- 2. new = old[:] : 슬라이싱(깊음), 추천\n",
        "- 3. new = [], new.extend(old) : 깊음\n",
        "- 4. new = list(old) : 깊음\n",
        "- 5. import copy, new = copy.copy(old) : 깊음\n",
        "- 6. new = [i for i in old] : 리스트 함축,깊음\n",
        "- 7. import copy, new=copy.deepcopy(old)\n",
        "> 잠깐! 깊고 , 얕음?\n",
        "```python\n",
        "from copy import deepcopy as dp\n",
        "a = [1,2,3] # a는 객체 1,2,3의 주소(깊음)가 저장된 배열 주소(얕음)를 가리킴\n",
        "b = a[:] # 깊은 복사 \n",
        "a[1] = 999\n",
        "print(b) #[1, 2, 3]\n",
        "~~\n",
        "a = [1,2,3]\n",
        "b = a\n",
        "a[1] = 999\n",
        "print(b) #[1, 999, 3]\n",
        "~~\n",
        "from copy import deepcopy as dp\n",
        "a = [1,[2,3,[5]],3] #mutable 한건 깊든 얕든 같음\n",
        "b = dp(a) # ex) a가 int같은거면 생성된 int객체의 주소를 a가 가져서 값을 변경하면 새주소 할당됨.\n",
        "c = a[:] # ex) 리스트같은 배열,동적배열이면 그 배열의 시작주소를 가져옴.(얕음)\n",
        "d = a # ex) 보통 깊음 = 배열의 1차 내부 요소들의 주소를 들고옴\n",
        "a[0]=999\n",
        "a[1].append(1)\n",
        "a[1][2].append(3)\n",
        "print(\"b = \",b) #찐 깊음 = 모든 요소의 요소들 하나하나 의 주소를 땡겨옴(요소가 리스트여도 그 원소의 주소)\n",
        "print(\"c = \",c) #깊음 = 모든 요소의 주소를 땡겨옴 (요소가 라스트면 리스트 주소1)\n",
        "print(\"d = \",d) #얕음 = 가장 바깥 주소만 땡겨옴\n",
        "\"\"\"\n",
        "b =  [1, [2, 3, [5]], 3]\n",
        "c =  [1, [2, 3, [5, 3], 1], 3]\n",
        "d =  [999, [2, 3, [5, 3], 1], 3]\n",
        "\"\"\"\n",
        "```\n",
        ": 리스트 원소까지 깊은 복사, 가장 느림\n",
        "연결 리스트: 메모리의 동적할당을 기반으로\n",
        "구현된 리스트\n",
        "\n",
        "> - 배열은 배열의 시작주소가 있고 이어진게 끝나는 부분까지가 자신임.\n",
        "> - 여기서 얕은 복사는 단순히 a = list 에서 list의 시작 주소만 가져오므로 내부의 값들이\n",
        "변하가 추가되면 그대로 값들이 따라서 다바뀜.\n",
        "> - 깊은 복사는 배열 내부의 값들의 주소를 같이 가져옴 그래서 1차 내부는 바뀌어도 영향 x\n",
        "하지만 요소가 배열이라면 그 요소인 배열이 변하면 같이 바뀜.\n",
        "> - 찐 깉은 복사는 배열의 요소인 배열의 요소의 주소까지 싹다 복사 바뀌어도 영향 없음.\n",
        "\n",
        "#### 연결 리스트\n",
        ": 리스트의 단점을 보완한 자료 구조\n",
        "-  1. 자료의 논리적인 순서와 메모리 상의\n",
        "물리적 순서가 일치하지 않고, **개별적으로\n",
        "위치하고 있는 원소의 주소를 연결하여\n",
        "하나의 전체적인 자료구조**를 이룸\n",
        "- 2. 링크를 통해 원소에 접근하므로,\n",
        "순차 리스트에서 **물리적인 순서를 맞추기 위한\n",
        "작업이 필요하지 않음**.\n",
        "- 3. 자료구조의 크기를 동적으로 조종할 수 있어, **메모리의 효율적인 사용이 가능**\n",
        "- 4. 연결/탐색시 순차적으로 탐색해야함\n",
        "> 연결리스트 구현을 위한 함수\n",
        "> - addtoFirst(): 리스트 앞쪽에 원소 추가\n",
        "> - addtoLas(): 리스트 맨뒤에 원소 추가\n",
        "> - add(): 리스트 특정 위치에 원소 추가\n",
        "> - delete(): 리스트 특정 위치 원소 삭제\n",
        "> - get(): 리스트 특정 위치 원소 리턴\n",
        "> 구성 요소\n",
        "> - 노드: 연결 리스트에서 하나의 원소에 필요한 데이터를 갖고 있는 자료 단위\n",
        "> - - 데이터 필드: 원소의 값을 저장하는 자료구조\n",
        "> - - 링크 필드: 다음 노드의 주소를 저장하는 자료구조\n",
        "> - 헤드: 리스트의 처음 노드를 가리키는 \n",
        "reference"
      ],
      "metadata": {
        "id": "sek2m3EVpw8_"
      }
    },
    {
      "cell_type": "markdown",
      "source": [
        "## 1. 단순 연결 리스트\n",
        "- 노드 하나의 링크 필드로 다음 노드와 연결\n",
        "- 헤드는 가장 앞 노드를 가리킴, 각 노드의 링크 필드가 연속적으로 다음 노드를 가리킴\n",
        "- 최종적으로 None을 가리키는 노드가 가장 마지막 노드\n",
        "\n",
        "1. 삽입 연산\n",
        "- 메모리 할당하여 새 노드(new) 생성\n",
        "- 새 노드의 데이터 필드에 value 저장\n",
        "- 삽입될 위치 바로 전 노드의 링크 필드에 \n",
        "가리키는 다음 노드의 reference를 new의 링크필드에 저장\n",
        "- 삽입될 위치 바로 전 노드의 링크 필드에 new reference 저장, "
      ],
      "metadata": {
        "id": "i2cvuSup0o6q"
      }
    },
    {
      "cell_type": "code",
      "source": [
        "class Node:#노드 클래스\n",
        "    def __init__(self,data,link):\n",
        "        self.data = data\n",
        "        self.link = link\n",
        "\n",
        "def addtoFirst(data):#Head 만드는 함수\n",
        "    global Head\n",
        "    Head = Node(data,Head) #첫 생성시 link field = None이됨 \n",
        "\n",
        "def add(pre,data): #pre 다음 위치로 삽입하는 함수\n",
        "    if pre == None:\n",
        "        print('error')\n",
        "    else:\n",
        "        pre.link = Node(data,pre.link) #새 노드가 원래 pre의 link를 가져가고\n",
        "        #pre.link를 새 노드로 대체\n",
        "def addtoLast(data):\n",
        "    global Head\n",
        "    if Head == None:\n",
        "        addtoFirst()#비었으면 첫항 추가\n",
        "    else:\n",
        "        p = Head\n",
        "        while p.link: #끝 노드까지\n",
        "            p = p.link\n",
        "        p.link = Node(data,None)\n",
        "def deleteFirst():\n",
        "    global Head\n",
        "    if Head == Npne: print('error')\n",
        "    else:\n",
        "        Head = Head.link #첫 노드의 다음노드로 연결\n",
        "def deleteLast():\n",
        "    global Head\n",
        "    if Head == None: print('error')\n",
        "    else:\n",
        "        p = Head\n",
        "        while p.link:\n",
        "            p = p.link\n",
        "        del p\n",
        "def delete(pre):#위치 특정 될 때\n",
        "    if pre == None or pre.link == None:\n",
        "        print('error')\n",
        "    else:\n",
        "        pre.link = pre.link.link \n",
        "def sdelete(x): #위치 특정이 안될때.\n",
        "    global Head\n",
        "    if Head == None: print(\"Empty list\")\n",
        "    else:\n",
        "        p = Head\n",
        "        while p.link == x:\n",
        "            p = p.link\n",
        "        p.link = x.link\n",
        "        del x #메모리 절약 ㅎ"
      ],
      "metadata": {
        "id": "H5CRXQOIyv5q"
      },
      "execution_count": 99,
      "outputs": []
    },
    {
      "cell_type": "markdown",
      "source": [
        "## 2. 이중 연결 리스트\n",
        "1. 양쪽 방향으로 순회할 수 있도록 노드를 연결한 리스트\n",
        "2. 두 개의 링크 필드와 한 개의 데이터 필드로 구성 (pre,next)\n",
        "\n",
        "- 삽입 과정(new 노드 생성하여)\n",
        "cur이 가리키는 노드가 있을 때\n",
        "cur의 next가 new의 next가 되고\n",
        "new의 pre가 cur이 되고\n",
        "new의 next의 pre가 new가 된다.\n",
        "```python\n",
        "new = Node(data,None,None)\n",
        "new.next = cur.next\n",
        "new.pre = cur\n",
        "new.next.pre = new\n",
        "```\n",
        "\n",
        "- 삭제 과정\n",
        "```python\n",
        "cur.next.pre = cur.pre\n",
        "cur.pre.next = cur.next\n",
        "```"
      ],
      "metadata": {
        "id": "s09-Il8k63yg"
      }
    },
    {
      "cell_type": "markdown",
      "source": [
        "## 3. 삽입 정렬 (Insertion sort)\n",
        "> 자료 배열의 모든 원소들을 앞에서부터\n",
        "차례대로 이미 정렬된 부분과 비교하여, 자신의 위치를 찾아냄으로써 정렬을 완성\n",
        "\n",
        "정렬과정\n",
        "1. 정렬할 자료를 두 개의 부분집합 S,U로 가정\n",
        "- 부분집합 S: 정렬된 앞부분의 원소들\n",
        "- 부분집합 U: 아직 정렬되지 않은 나머지 원소들\n",
        "2. 정렬되지 않은 부분집합 U의 원소를 하나씩 꺼내서 이미 정렬되어있는 부분집합 S의 마지막 원소부터 비교하면서 위치를 찾아 삽입\n",
        "3. 2를 반복하면서 부분집합 S의 원소는 하나씩 늘리고 부분집합 U의 원소는 하나씩 감소하게 함.\n",
        "4. 부분집합 U가 공집합이 되면 정렬 끝\n",
        "- 각 부분집합의 원소를 매번 비교해야 하므로\n",
        "시간 복잡도 = O(n^2)"
      ],
      "metadata": {
        "id": "rI9TDstHjnkU"
      }
    },
    {
      "cell_type": "markdown",
      "source": [
        "## 4. 병합 정렬(Merge Sort)"
      ],
      "metadata": {
        "id": "4t9529dJktmj"
      }
    },
    {
      "cell_type": "code",
      "source": [
        ""
      ],
      "metadata": {
        "id": "_4ZdCzYkjsK1"
      },
      "execution_count": null,
      "outputs": []
    }
  ]
}