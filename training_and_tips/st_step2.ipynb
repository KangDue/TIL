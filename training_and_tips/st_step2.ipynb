{
  "nbformat": 4,
  "nbformat_minor": 0,
  "metadata": {
    "colab": {
      "name": "st_step2.ipynb",
      "provenance": [],
      "collapsed_sections": [],
      "authorship_tag": "ABX9TyMS1tEAv/9j7/Q0lGU/nWRR",
      "include_colab_link": true
    },
    "kernelspec": {
      "name": "python3",
      "display_name": "Python 3"
    },
    "language_info": {
      "name": "python"
    }
  },
  "cells": [
    {
      "cell_type": "markdown",
      "metadata": {
        "id": "view-in-github",
        "colab_type": "text"
      },
      "source": [
        "<a href=\"https://colab.research.google.com/github/KangDue/TIL/blob/master/st_step2.ipynb\" target=\"_parent\"><img src=\"https://colab.research.google.com/assets/colab-badge.svg\" alt=\"Open In Colab\"/></a>"
      ]
    },
    {
      "cell_type": "markdown",
      "source": [
        "#1\n",
        "최빈값 찾기"
      ],
      "metadata": {
        "id": "i2NKRHi70WUv"
      }
    },
    {
      "cell_type": "code",
      "source": [
        "T = int(input())\n",
        "for t in range(1,T+1):\n",
        "  tn = int(input())\n",
        "  temp = list(map(int,input().split()))\n",
        "  bins = dict({ i:0 for i in set(temp)  })\n",
        "  for i in bins.keys():\n",
        "    bins[i] = temp.count(i)\n",
        "  print(f'#{tn} {max(bins.items(),key = lambda x: x[1])[0]}')"
      ],
      "metadata": {
        "colab": {
          "base_uri": "https://localhost:8080/"
        },
        "id": "PgYwpTcK0YMI",
        "outputId": "53adc3b2-582f-446c-b8ea-be496b61a132"
      },
      "execution_count": 11,
      "outputs": [
        {
          "output_type": "stream",
          "name": "stdout",
          "text": [
            "1\n",
            "1\n",
            "1 1 1 1 2 3\n",
            "#1 1\n"
          ]
        }
      ]
    },
    {
      "cell_type": "markdown",
      "source": [
        "# 2\n",
        "> 수도요금 싼곳 고르기\n",
        "- A사 : 1리터당 P원의 돈을 내야 한다.\n",
        "- B사 : 기본 요금이 Q원이고, 월간 사용량이 R리터 이하인 경우 요금은 기본 요금만 청구된다. 하지만 R 리터보다 많은 양을 사용한 경우 초과량에 대해 1리터당 S원의 요금을 더 내야 한다."
      ],
      "metadata": {
        "id": "2ZkrhyIV3a_1"
      }
    },
    {
      "cell_type": "code",
      "source": [
        "T = int(input())\n",
        "for t in range(1,T+1):\n",
        "  p,q,r,s,w = map(int,input().split())\n",
        "  a = w * p\n",
        "  if w<= r:\n",
        "    b = q\n",
        "  else:\n",
        "    b = q + (w-r)*s\n",
        "  if a<b:\n",
        "    print(f'#{t} {a}')\n",
        "  else:\n",
        "    print(f'#{t} {b}')"
      ],
      "metadata": {
        "colab": {
          "base_uri": "https://localhost:8080/"
        },
        "id": "kxKCo2aM3aeE",
        "outputId": "b586f68c-82e0-4a6d-f403-ccdbb83c995b"
      },
      "execution_count": 24,
      "outputs": [
        {
          "output_type": "stream",
          "name": "stdout",
          "text": [
            "1\n",
            "8 300 100 10 250\n",
            "#1 1800\n"
          ]
        }
      ]
    },
    {
      "cell_type": "markdown",
      "source": [
        "#3\n",
        ">최빈값 변형\n",
        "돌던지고 가까운 거리 던진 수 카운트\n"
      ],
      "metadata": {
        "id": "88yGumcf7xYT"
      }
    },
    {
      "cell_type": "code",
      "source": [
        "T = int(input())\n",
        "for t in range(1,T+1):\n",
        "  n = int(input())\n",
        "  temp = list(map(int,input().split()))\n",
        "  dist = dict({i:0 for i in range(1,100001) })\n",
        "  for i in temp:\n",
        "    dist[abs(i)]+=1\n",
        "  ans = max(dist.items(),key = lambda x:x[1])\n",
        "  print(f'#{t} {ans[0]} {ans[1]}')"
      ],
      "metadata": {
        "colab": {
          "base_uri": "https://localhost:8080/"
        },
        "id": "A5vYb7cu547_",
        "outputId": "7d849699-08ca-4c50-8b3c-afb95553ada3"
      },
      "execution_count": 30,
      "outputs": [
        {
          "output_type": "stream",
          "name": "stdout",
          "text": [
            "1\n",
            "1\n",
            "-100 100\n",
            "#1 100 2\n"
          ]
        }
      ]
    },
    {
      "cell_type": "markdown",
      "source": [
        "#4\n",
        "> N간격 숫자세면서 0~9 모두 다보기"
      ],
      "metadata": {
        "id": "H0-DE5p6FUQq"
      }
    },
    {
      "cell_type": "code",
      "source": [
        "T = int(input())\n",
        "for t in range(1,T+1):\n",
        "  n = int(input())\n",
        "  nine = set(range(10))\n",
        "  k = 0\n",
        "  while nine:\n",
        "    k += n\n",
        "    nine = nine.difference(set( map( int,str(k) ) ))\n",
        "  print(f'#{t} {k}')"
      ],
      "metadata": {
        "id": "cRgQWoOGDXct"
      },
      "execution_count": null,
      "outputs": []
    },
    {
      "cell_type": "markdown",
      "source": [
        "#5\n",
        "> Base64 디코딩하기\n",
        "인코딩 절차\n",
        "- 1.문자를 아스키 코드로 변환\n",
        "- 2.변환한 코드를 이진수로 전환\n",
        "- 3.3byte 로 이어 붙인뒤 6bit 씩 끊기\n",
        "- 4.끊은 비트를 10진수로 전환\n",
        "- 5.Base64표 값에 대입하여 인코딩\n",
        "\n",
        "디코딩은 인코딩의 역순\n",
        "목적: 통신과정에서 바이너리 데이터의 손실을 막기 위해 사용\n",
        "- 플랫폼마다 비트중 나머지 처리 방식이 다름\n",
        "여기서는 젤 앞자리랑 빈자리는 0으로 처리"
      ],
      "metadata": {
        "id": "wz6lDHvIJNKp"
      }
    },
    {
      "cell_type": "code",
      "source": [
        "#base 64 dict 생성\n",
        "uppers = dict({ i : chr(i+65) for i in range(26)})\n",
        "lowers = dict({ i+26 : chr(i+97) for i in range(26)})\n",
        "nums = dict({ i+52 : chr(i+48) for i in range(10)})\n",
        "base64 = dict({62:\"*\",63:\"/\"}) #encoding 용\n",
        "base64.update(uppers)\n",
        "base64.update(lowers)\n",
        "base64.update(nums)\n",
        "# utf-8에서 알파벳 1글자 1바이트, 한글 3바이트\n",
        "base64_dec = dict()\n",
        "for k,v in base64.items():\n",
        "  base64_dec[v] = k #decoding용\n",
        "\n",
        "def to_byte(a): #숫자표현 7자리 맨앞자리는 0\n",
        "  temp = bin(base64_dec[a])[2:] # 0b 제외 나머지 추출\n",
        "  if len(temp) < 6: #6자리중 앞쪽 빈칸을 0으로 채워주기\n",
        "    temp = '0'*(6-len(temp))+temp\n",
        "  return temp\n",
        "\n",
        "T = int(input())\n",
        "for t in range(1,T+1):\n",
        "  text = input()\n",
        "  new_text = ''\n",
        "  for i in text:\n",
        "    new_text += to_byte(i)\n",
        "  ans = \"\"\n",
        "  for i in range(len(new_text)//8):\n",
        "    temp ='0b'+new_text[8*i:8*i+8] # 8자리씩 끊어서 담기\n",
        "    ans += chr(eval(temp)) #8자리 이진수 평가 후 디코딩은 아스기 넘버로\n",
        "  print( f'#{t} {ans}',end=\"\" )"
      ],
      "metadata": {
        "colab": {
          "base_uri": "https://localhost:8080/"
        },
        "id": "KUEYeM6sJarT",
        "outputId": "0810d7ff-5d40-4383-aaf8-e25b9a0f79dc"
      },
      "execution_count": 37,
      "outputs": [
        {
          "output_type": "stream",
          "name": "stdout",
          "text": [
            "1\n",
            "U3VzcGljaW9uIGZvbGxvd3MgY2xvc2Ugb24gbWlzdHJ1c3Qu\n",
            "#1 Suspicion follows close on mistrust."
          ]
        }
      ]
    }
  ]
}
